{
 "cells": [
  {
   "cell_type": "markdown",
   "metadata": {
    "collapsed": true,
    "deletable": true,
    "editable": true,
    "run_control": {
     "frozen": false,
     "read_only": false
    }
   },
   "source": [
    "# Analyze data frequency peak using periodogram\n",
    "\n",
    "## What is a periodogram\n",
    "\n",
    "A periodogram is a plot of power spectral density of a signal. "
   ]
  },
  {
   "cell_type": "markdown",
   "metadata": {},
   "source": [
    "## Import modules"
   ]
  },
  {
   "cell_type": "code",
   "execution_count": 1,
   "metadata": {
    "ExecuteTime": {
     "end_time": "2018-03-09T20:41:06.908000Z",
     "start_time": "2018-03-09T15:41:05.910000-05:00"
    },
    "collapsed": true,
    "deletable": true,
    "editable": true,
    "run_control": {
     "frozen": false,
     "read_only": false
    }
   },
   "outputs": [],
   "source": [
    "import pandas as pd\n",
    "import numpy as np\n",
    "import scipy.signal as signal\n",
    "import matplotlib.pyplot as plt\n",
    "%matplotlib inline"
   ]
  },
  {
   "cell_type": "markdown",
   "metadata": {},
   "source": [
    "## Load and visualize data\n",
    "\n",
    "We load hourly discharge data into a [`pandas.DataFrame`](https://pandas.pydata.org/pandas-docs/stable/generated/pandas.DataFrame.html) from a csv file using the [`pandas.read_csv`](https://pandas.pydata.org/pandas-docs/stable/generated/pandas.read_csv.html) method.\n",
    "\n",
    "The first column of the file is a timestamp, the second is the streamflow discharge in cubic meter per seconds. Example:\n",
    "\n",
    "    Timestamp, Discharge [cms]\n",
    "    1968-12-31 23:00:00,2.618941396073\n",
    "    1969-01-01 00:00:00,2.618941396073\n",
    "    1969-01-01 01:00:00,2.618941396073\n",
    "    1969-01-01 02:00:00,2.618941396073\n",
    "    ...\n",
    "\n",
    "The dataframe holds 175321 records."
   ]
  },
  {
   "cell_type": "code",
   "execution_count": 2,
   "metadata": {
    "ExecuteTime": {
     "end_time": "2018-03-09T20:41:07.148000Z",
     "start_time": "2018-03-09T15:41:06.911000-05:00"
    },
    "collapsed": false
   },
   "outputs": [
    {
     "name": "stdout",
     "output_type": "stream",
     "text": [
      "<class 'pandas.core.frame.DataFrame'>\n",
      "DatetimeIndex: 175321 entries, 1968-12-31 23:00:00 to 1988-12-31 23:00:00\n",
      "Data columns (total 1 columns):\n",
      " Discharge [cms]    175321 non-null float64\n",
      "dtypes: float64(1)\n",
      "memory usage: 2.7 MB\n"
     ]
    }
   ],
   "source": [
    "df = pd.read_csv('data/discharge.csv', index_col = 0, parse_dates=True)\n",
    "df.info()"
   ]
  },
  {
   "cell_type": "code",
   "execution_count": 3,
   "metadata": {
    "ExecuteTime": {
     "end_time": "2018-03-09T20:41:07.185000Z",
     "start_time": "2018-03-09T15:41:07.152000-05:00"
    },
    "collapsed": false
   },
   "outputs": [
    {
     "data": {
      "text/plain": [
       "count    175321.000000\n",
       "mean          4.288649\n",
       "std           4.723853\n",
       "min           0.150000\n",
       "25%           1.227224\n",
       "50%           2.793163\n",
       "75%           5.587714\n",
       "max          71.235717\n",
       "Name:  Discharge [cms], dtype: float64"
      ]
     },
     "execution_count": 3,
     "metadata": {},
     "output_type": "execute_result"
    }
   ],
   "source": [
    "discharge=df[df.columns[0]]\n",
    "discharge.describe()"
   ]
  },
  {
   "cell_type": "code",
   "execution_count": 4,
   "metadata": {
    "ExecuteTime": {
     "end_time": "2018-03-09T20:41:09.337000Z",
     "start_time": "2018-03-09T15:41:07.193000-05:00"
    },
    "collapsed": false,
    "scrolled": true
   },
   "outputs": [
    {
     "data": {
      "text/plain": [
       "<matplotlib.axes._subplots.AxesSubplot at 0xcdf39b0>"
      ]
     },
     "execution_count": 4,
     "metadata": {},
     "output_type": "execute_result"
    },
    {
     "data": {
      "image/png": "[encoded data removed]",
      "text/plain": [
       "<matplotlib.figure.Figure at 0xc292a58>"
      ]
     },
     "metadata": {},
     "output_type": "display_data"
    }
   ],
   "source": [
    "discharge.plot()"
   ]
  },
  {
   "cell_type": "markdown",
   "metadata": {
    "ExecuteTime": {
     "end_time": "2018-03-09T19:09:08.370000Z",
     "start_time": "2018-03-09T14:09:08.208000-05:00"
    },
    "deletable": true,
    "editable": true,
    "run_control": {
     "frozen": false,
     "read_only": false
    }
   },
   "source": [
    "## Periodogram using numpy\n",
    "\n",
    "1. We can use [np.fft.fft](https://docs.scipy.org/doc/numpy-1.13.0/reference/generated/numpy.fft.fft.html#numpy.fft.fft) routine to perform the Fast Fourier Transform $F$ of the signal\n",
    "2. We can compute the Power Spectral Density using $|F|^2$\n",
    "3. We can use [np.fft.fftfreq](https://docs.scipy.org/doc/numpy/reference/generated/numpy.fft.fftfreq.html) to return the FFT sampled frequencies "
   ]
  },
  {
   "cell_type": "code",
   "execution_count": 5,
   "metadata": {
    "ExecuteTime": {
     "end_time": "2018-03-09T20:41:11.492000Z",
     "start_time": "2018-03-09T15:41:09.341000-05:00"
    },
    "collapsed": false
   },
   "outputs": [
    {
     "data": {
      "text/plain": [
       "[<matplotlib.lines.Line2D at 0xe3ebc18>]"
      ]
     },
     "execution_count": 5,
     "metadata": {},
     "output_type": "execute_result"
    },
    {
     "data": {
      "image/png": "[encoded data removed]",
      "text/plain": [
       "<matplotlib.figure.Figure at 0x62e3198>"
      ]
     },
     "metadata": {},
     "output_type": "display_data"
    }
   ],
   "source": [
    "# compute power spectrum\n",
    "ps = np.abs(np.fft.fft(discharge))**2\n",
    "# define time step\n",
    "time_step = 60*60 # 1 hour is 60 * 60 sec\n",
    "# retrieve sampled frequencies\n",
    "freqs = np.fft.fftfreq(discharge.values.size, time_step)\n",
    "# get index of sorted frequencies in ascending order\n",
    "idx = np.argsort(freqs)\n",
    "# perform the plot\n",
    "plt.semilogx(freqs[idx], ps[idx])"
   ]
  },
  {
   "cell_type": "markdown",
   "metadata": {},
   "source": [
    "## Periodogram using scipy\n",
    "\n",
    "The scipy module has a dedicated method [scipy.signal.periodogram](https://docs.scipy.org/doc/scipy-0.13.0/reference/generated/scipy.signal.periodogram.html) to compute the periodogram."
   ]
  },
  {
   "cell_type": "code",
   "execution_count": 6,
   "metadata": {
    "ExecuteTime": {
     "end_time": "2018-03-09T20:41:13.178000Z",
     "start_time": "2018-03-09T15:41:11.495000-05:00"
    },
    "collapsed": false
   },
   "outputs": [
    {
     "data": {
      "text/plain": [
       "<matplotlib.text.Text at 0x103fe320>"
      ]
     },
     "execution_count": 6,
     "metadata": {},
     "output_type": "execute_result"
    },
    {
     "data": {
      "image/png": "[encoded data removed]",
      "text/plain": [
       "<matplotlib.figure.Figure at 0x1083c0b8>"
      ]
     },
     "metadata": {},
     "output_type": "display_data"
    }
   ],
   "source": [
    "freq = 1./(60*60)\n",
    "f, Pxx_den = signal.periodogram(discharge.values, freq)\n",
    "plt.loglog(f, Pxx_den)\n",
    "plt.xlabel('frequency [Hz]')\n",
    "plt.ylabel('PSD [V**2/Hz]')"
   ]
  },
  {
   "cell_type": "markdown",
   "metadata": {},
   "source": [
    "## Periodogram using the Welch method\n",
    "\n",
    "Welch’s method computes an estimate of the power spectral density by dividing the data into overlapping segments, computing a modified periodogram for each segment and averaging the periodograms. The number of data per segment is specified using the `nperseg` argument.\n",
    "\n",
    "This method might show some improvement, especially with respect to noise immunity. However, it may hide some low frequency cycles.\n",
    "\n",
    "It is implemented by the [scipy.signal.welch](https://docs.scipy.org/doc/scipy-0.13.0/reference/generated/scipy.signal.welch.html#scipy.signal.welch) method.\n",
    "\n",
    "The example below stacks 4 segments of the discharge data to compute the periodogram."
   ]
  },
  {
   "cell_type": "code",
   "execution_count": 7,
   "metadata": {
    "ExecuteTime": {
     "end_time": "2018-03-09T20:41:14.743000Z",
     "start_time": "2018-03-09T15:41:13.181000-05:00"
    },
    "collapsed": false
   },
   "outputs": [
    {
     "data": {
      "text/plain": [
       "<matplotlib.text.Text at 0xe8d4048>"
      ]
     },
     "execution_count": 7,
     "metadata": {},
     "output_type": "execute_result"
    },
    {
     "data": {
      "image/png": "[encoded data removed]",
      "text/plain": [
       "<matplotlib.figure.Figure at 0x1083c710>"
      ]
     },
     "metadata": {},
     "output_type": "display_data"
    }
   ],
   "source": [
    "f, Pxx_den = signal.welch(discharge, freq, nperseg=len(discharge)/4)\n",
    "plt.loglog(f, Pxx_den)\n",
    "plt.xlabel('frequency [Hz]')\n",
    "plt.ylabel('PSD [V**2/Hz]')"
   ]
  }
 ],
 "metadata": {
  "hide_input": false,
  "kernelspec": {
   "display_name": "Python 2",
   "language": "python",
   "name": "python2"
  },
  "language_info": {
   "codemirror_mode": {
    "name": "ipython",
    "version": 2
   },
   "file_extension": ".py",
   "mimetype": "text/x-python",
   "name": "python",
   "nbconvert_exporter": "python",
   "pygments_lexer": "ipython2",
   "version": "2.7.11"
  }
 },
 "nbformat": 4,
 "nbformat_minor": 0
}
