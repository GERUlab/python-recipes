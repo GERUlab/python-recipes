{
 "cells": [
  {
   "cell_type": "markdown",
   "metadata": {
    "toc": "true"
   },
   "source": [
    "# Table of Contents\n",
    " <p><div class=\"lev1 toc-item\"><a href=\"#Introduction\" data-toc-modified-id=\"Introduction-1\"><span class=\"toc-item-num\">1&nbsp;&nbsp;</span>Introduction</a></div><div class=\"lev1 toc-item\"><a href=\"#A-basic-OOP-example\" data-toc-modified-id=\"A-basic-OOP-example-2\"><span class=\"toc-item-num\">2&nbsp;&nbsp;</span>A basic OOP example</a></div><div class=\"lev1 toc-item\"><a href=\"#A-single-reservoir-model\" data-toc-modified-id=\"A-single-reservoir-model-3\"><span class=\"toc-item-num\">3&nbsp;&nbsp;</span>A single reservoir model</a></div><div class=\"lev1 toc-item\"><a href=\"#A-single-reservoir-model-with-inflow\" data-toc-modified-id=\"A-single-reservoir-model-with-inflow-4\"><span class=\"toc-item-num\">4&nbsp;&nbsp;</span>A single reservoir model with inflow</a></div><div class=\"lev1 toc-item\"><a href=\"#Coupled-reservoir-model\" data-toc-modified-id=\"Coupled-reservoir-model-5\"><span class=\"toc-item-num\">5&nbsp;&nbsp;</span>Coupled reservoir model</a></div>"
   ]
  },
  {
   "cell_type": "markdown",
   "metadata": {},
   "source": [
    "Damien Delforge, UCLouvain 2018.\n",
    "\n",
    "# Introduction\n",
    "\n",
    "Reservoirs are abstract representations of a closable (sub)system able to receive, store and release abstract quantities ruled by some dynamical rules. Typically, reservoirs are widely used in hydrology to represent water or solute exchanges within simple lumped models, usually ruled by a few ordinary differential equation (ODE). This notebook presents how to build your own reservoir model using Object Oriented Programming (OOP). \n",
    "\n",
    "In OOP, object are abstraction of real world object described by their `attributes` and able to perform some `methods` based on their attributes. This makes OOP a powerful to make the programming code closer to the conceptual structure of a model. The blueprint of an object is called the `class` and it is used to create many different objects sharing the same `class` but having different `attributes`. For instance, two trees can be defined through the same class `Tree` but can be created with different attributes, such as the Leaf area index (LAI). They also share the same `methods`, such as \"photosynthesis\" but these are ruled by the `attributes` values, e.g. the LAI. Another example, two reservoir conceptualized within a same `class` can be defined by different geometrical and structural properties as `attributes`. Again, they may share the same methods for discharging water but they will responds the `attributes`. "
   ]
  },
  {
   "cell_type": "code",
   "execution_count": 1,
   "metadata": {
    "ExecuteTime": {
     "end_time": "2018-11-20T11:59:31.029132Z",
     "start_time": "2018-11-20T11:59:30.179880Z"
    },
    "run_control": {
     "frozen": false,
     "read_only": false
    }
   },
   "outputs": [
    {
     "name": "stdout",
     "output_type": "stream",
     "text": [
      "Python version: (3, 6, 4)\n",
      "Pandas version: 0.23.4\n",
      "Numpy version: 1.14.2\n",
      "Scipy version: 1.0.0\n"
     ]
    }
   ],
   "source": [
    "import pandas as pd\n",
    "import numpy as np\n",
    "import scipy as sp\n",
    "from scipy.integrate import odeint\n",
    "import sys\n",
    "print(\"Python version: {}\".format(sys.version_info[:3]))\n",
    "print(\"Pandas version: {}\".format(pd.__version__))\n",
    "print(\"Numpy version: {}\".format(np.__version__))\n",
    "print(\"Scipy version: {}\".format(sp.__version__))\n",
    "import matplotlib.pyplot as plt"
   ]
  },
  {
   "cell_type": "markdown",
   "metadata": {},
   "source": [
    "# A basic OOP example\n",
    "\n",
    "This is a basic `class` example in python:"
   ]
  },
  {
   "cell_type": "code",
   "execution_count": 2,
   "metadata": {
    "ExecuteTime": {
     "end_time": "2018-11-20T11:59:31.039162Z",
     "start_time": "2018-11-20T11:59:31.031141Z"
    }
   },
   "outputs": [],
   "source": [
    "class MyClass(object):\n",
    "    \n",
    "    def __init__(self, myattr):\n",
    "        self.myattr = myattr\n",
    "        \n",
    "    def my_method(self):\n",
    "        print(self.myattr)"
   ]
  },
  {
   "cell_type": "markdown",
   "metadata": {},
   "source": [
    "A class is always defined with the keyword `class`, followed by the class name. Between the parenthesis is the `parent` class. In this case, we define our class from the `object` which is the most basic parent. But you may pass the class name of another object, so that the new class will have the same attributes and methods defined by `inheritance`. It is particularly handy if you want to add more precise attributes or methods to an already written class. Each class has an `__init__` method which allows to instanciate (i.e. create) the object. Typically, some values are passed to be stored as attributes (for instance `myattr`). When the keyword `self` is defined as the first argument of a method, it allows to access to the object from the method,  hence, to call attributes and other methods. For instance, the `my_method` method can access the `myattr` attribute thanks to the `self` argument being passed. Let's create an object:"
   ]
  },
  {
   "cell_type": "code",
   "execution_count": 3,
   "metadata": {
    "ExecuteTime": {
     "end_time": "2018-11-20T11:59:31.206605Z",
     "start_time": "2018-11-20T11:59:31.042167Z"
    }
   },
   "outputs": [
    {
     "name": "stdout",
     "output_type": "stream",
     "text": [
      "hello world\n",
      "hello world\n"
     ]
    }
   ],
   "source": [
    "A = MyClass('hello world')\n",
    "print(A.myattr)\n",
    "A.my_method()"
   ]
  },
  {
   "cell_type": "markdown",
   "metadata": {},
   "source": [
    "The object was created using the class name. Within the parenthesis, one should put the attributes required for the `__init__` method, so the `__init__` method is automatically called during the instanciation. The `hello world` attributes was passed. Attributes can be accessed with the synthax: `object.attribute`. Same goes for the methods but they need to be called with parenthesis and eventual arguments: `object.method(*args)`."
   ]
  },
  {
   "cell_type": "markdown",
   "metadata": {},
   "source": [
    "# A single reservoir model\n",
    "\n",
    "The following code introduce a single reservoir model. The reservoir dynamic has the following form:\n",
    "\n",
    "$$\n",
    "\\frac{dS}{dt} = -Q_{out}\n",
    "$$\n",
    "\n",
    "with $\\frac{dS}{dt}$ the dynamic of the storage $S$ and $Q_{out}$, the outflow. \n",
    "\n",
    "The outflow $Q_{out}$ is linearly related to the storage $S$ by the discharge coefficient $k$:\n",
    "\n",
    "$$\n",
    "Q_{out} = kS\n",
    "$$\n",
    "\n",
    "Such a reservoir can be solved analytically into:\n",
    "\n",
    "$$\n",
    "S = S_0 e^{-kt}\n",
    "$$\n",
    "\n",
    "where $S_0$ is the initial storage of the reservoir and $t$ is the time.\n",
    "\n",
    "To represent a reservoir described by the above dynamic within a python object, a generic class can be written. This class can be instanciated with the initial storage $S_0$, the parameter $k$ and $t$, the number of time step to consider for the simulation."
   ]
  },
  {
   "cell_type": "code",
   "execution_count": 4,
   "metadata": {
    "ExecuteTime": {
     "end_time": "2018-11-20T11:59:31.310882Z",
     "start_time": "2018-11-20T11:59:31.209612Z"
    }
   },
   "outputs": [],
   "source": [
    "class Reservoir1(object):\n",
    "    \n",
    "    def __init__(self, S0, k, t=100):\n",
    "        \"\"\"Initialization of the reservoir\n",
    "        \n",
    "        Attributes:\n",
    "        -----------\n",
    "        \n",
    "        S0 : float\n",
    "            Initial storage\n",
    "        k : float\n",
    "            Dicharge coefficient\n",
    "        t : int\n",
    "            Number of time step to consider (default=100)\n",
    "        \n",
    "        \"\"\"\n",
    "        \n",
    "        # set attributes\n",
    "        self.s0 = S0\n",
    "        self.k = k\n",
    "        self.tend = t\n",
    "        self.tarr = np.arange(t) # time vector\n",
    "        \n",
    "        # intitiate ouput storage\n",
    "        self.output = np.zeros(t)\n",
    "        self.output[0] = S0\n",
    "    \n",
    "    def solve(self):\n",
    "        \"\"\"Solve numerically the reservoir ODE\n",
    "        \n",
    "        The scipy solver is used stepwise. It is based\n",
    "        on lsoda routines and suitable for both stiff\n",
    "        and non stiff problems.\n",
    "        \n",
    "        \"\"\"\n",
    "        k = self.k\n",
    "        for i in range(self.tend-1):\n",
    "            t = [0,1] # unit time step\n",
    "            s0 = self.output[i]\n",
    "            sol = odeint(self.ode, s0, t, args=(k,))\n",
    "            self.output[i+1] = sol[1] # the new storage is at index 1\n",
    "    \n",
    "    @property\n",
    "    def solution(self):\n",
    "        \"\"\"Return solution from analytical expression\n",
    "        \n",
    "        This method is a property. It is a method but\n",
    "        it is called like an attribute, without using\n",
    "        the parenthesis. Ex:\n",
    "        \n",
    "        >>> myres = Reservoir1(10, 0.1)\n",
    "        >>> myres.solution\n",
    "        \n",
    "        \"\"\"\n",
    "        t = self.tarr\n",
    "        S0 = self.s0\n",
    "        k = self.k\n",
    "        return S0*np.exp(-k*t)\n",
    "    \n",
    "    @staticmethod\n",
    "    def ode(s, t, k):\n",
    "        \"\"\"Ordinary differential equation\n",
    "        \n",
    "        This method has to be static, i.e. not bound the class.\n",
    "        In other words, we cannot call method and attributes and\n",
    "        they need to be explicitely passed as variables and\n",
    "        parameters:\n",
    "        \n",
    "        - First element is always the output variables.\n",
    "        - Second element is always time.\n",
    "        - Last elements are input variables or parameters.\n",
    "        \"\"\"\n",
    "        dSdt = -k*s\n",
    "        return dSdt\n",
    "    "
   ]
  },
  {
   "cell_type": "code",
   "execution_count": 5,
   "metadata": {
    "ExecuteTime": {
     "end_time": "2018-11-20T11:59:31.698913Z",
     "start_time": "2018-11-20T11:59:31.312886Z"
    }
   },
   "outputs": [
    {
     "data": {
      "text/plain": [
       "<matplotlib.legend.Legend at 0x196665bc630>"
      ]
     },
     "execution_count": 5,
     "metadata": {},
     "output_type": "execute_result"
    },
    {
     "data": {
      "image/png": "[encoded data removed]",
      "text/plain": [
       "<matplotlib.figure.Figure at 0x196664ec2e8>"
      ]
     },
     "metadata": {},
     "output_type": "display_data"
    }
   ],
   "source": [
    "# Instantiate reservoir\n",
    "res1 = Reservoir1(100, 0.1)\n",
    "\n",
    "# Solve reservoir\n",
    "res1.solve()\n",
    "\n",
    "# Plot results\n",
    "fig = plt.figure()\n",
    "ax = fig.gca() # get current axes\n",
    "ax.plot(res1.output, label='numerical', lw=4)\n",
    "ax.plot(res1.solution, label='analytical', lw=3, ls='--')\n",
    "ax.set_xlabel('Time')\n",
    "ax.set_ylabel('S')\n",
    "ax.legend()"
   ]
  },
  {
   "cell_type": "markdown",
   "metadata": {
    "ExecuteTime": {
     "end_time": "2018-11-19T17:59:43.659150Z",
     "start_time": "2018-11-19T17:59:43.623101Z"
    }
   },
   "source": [
    "# A single reservoir model with inflow\n",
    "\n",
    "In this case, the reservoir is subject to a constant inflow. The continuity equation is then given by:\n",
    "\n",
    "$$\n",
    "\\frac{dS}{dt} = Q_{in} - Q_{out}\n",
    "$$\n",
    "\n",
    "with $Q_{in}$ the constant inflow term. Still, the continuity equation has a solution (because Q_in is constant) given by the expression:\n",
    "\n",
    "$$\n",
    "S = \\frac{Q_{in}}{k} + (S_0 - \\frac{Q_{in}}{k})e^{-kt}\n",
    "$$\n",
    "\n",
    "In this slightly modified version, inflow is considered and passed as an argument in once instanciating the object."
   ]
  },
  {
   "cell_type": "code",
   "execution_count": 6,
   "metadata": {
    "ExecuteTime": {
     "end_time": "2018-11-20T11:59:31.771105Z",
     "start_time": "2018-11-20T11:59:31.700918Z"
    }
   },
   "outputs": [],
   "source": [
    "class Reservoir2(object):\n",
    "    \n",
    "    def __init__(self, S0, k, inflow, t=100):\n",
    "        \"\"\"Initialization of the reservoir\n",
    "        \n",
    "        Attributes:\n",
    "        -----------\n",
    "        \n",
    "        S0 : float\n",
    "            Initial storage\n",
    "        k : float\n",
    "            Dicharge coefficient\n",
    "        inflow : numpy.array\n",
    "            Numpy 1D array with the inflow. Should be of length\n",
    "            `t`.\n",
    "        t : int\n",
    "            Number of time step to consider (default=100)\n",
    "        \n",
    "        \"\"\"\n",
    "        \n",
    "        # set attributes\n",
    "        self.s0 = S0\n",
    "        self.k = k\n",
    "        self.tend = t\n",
    "        self.tarr = np.arange(t)\n",
    "        self.inflow = inflow\n",
    "        \n",
    "        # intitiate ouput storage\n",
    "        self.output = np.zeros(t)\n",
    "        self.output[0] = S0\n",
    "    \n",
    "    def solve(self):\n",
    "        \"\"\"Solve numerically the reservoir ODE\"\"\"\n",
    "        k = self.k\n",
    "        for i in range(self.tend-1):\n",
    "            t = [0,1] # unit time step\n",
    "            s0 = self.output[i]\n",
    "            qin = self.inflow[i]\n",
    "            sol = odeint(self.ode, s0, t, args=(k,qin))\n",
    "            self.output[i+1] = sol[1]\n",
    "    \n",
    "    @property\n",
    "    def solution(self):\n",
    "        \"\"\"Return solution from analytical expression\"\"\"\n",
    "        t = self.tarr\n",
    "        S0 = self.s0\n",
    "        k = self.k\n",
    "        qin = self.inflow\n",
    "        return qin/k + (S0-qin/k)*np.exp(-k*t)\n",
    "    \n",
    "    @staticmethod\n",
    "    def ode(s, t, k, qin):\n",
    "        \"\"\"Ordinary differential equation\n",
    "        \"\"\"\n",
    "        dSdt = qin-k*s\n",
    "        return dSdt\n",
    "    "
   ]
  },
  {
   "cell_type": "code",
   "execution_count": 7,
   "metadata": {
    "ExecuteTime": {
     "end_time": "2018-11-20T11:59:32.048843Z",
     "start_time": "2018-11-20T11:59:31.773110Z"
    }
   },
   "outputs": [
    {
     "data": {
      "text/plain": [
       "<matplotlib.legend.Legend at 0x196668b3a20>"
      ]
     },
     "execution_count": 7,
     "metadata": {},
     "output_type": "execute_result"
    },
    {
     "data": {
      "image/png": "[encoded data removed]",
      "text/plain": [
       "<matplotlib.figure.Figure at 0x196664ec2b0>"
      ]
     },
     "metadata": {},
     "output_type": "display_data"
    }
   ],
   "source": [
    "qin = np.ones(100)\n",
    "# Instantiate reservoir\n",
    "res1 = Reservoir2(100, 0.1, qin)\n",
    "\n",
    "# Solve reservoir\n",
    "res1.solve()\n",
    "\n",
    "# Plot results\n",
    "fig = plt.figure()\n",
    "ax = fig.gca() # get current axes\n",
    "ax.plot(res1.output, label='numerical', lw=4)\n",
    "ax.plot(res1.solution, label='analytical', lw=3, ls='--')\n",
    "ax.set_xlabel('Time')\n",
    "ax.set_ylabel('S')\n",
    "ax.set_ylim(0)\n",
    "ax.legend()"
   ]
  },
  {
   "cell_type": "markdown",
   "metadata": {},
   "source": [
    "The storage reaches an equilibrium around 10. With a variable inflow, the analytical solution is no longer valid but the reservoir can be solved numerically:"
   ]
  },
  {
   "cell_type": "code",
   "execution_count": 8,
   "metadata": {
    "ExecuteTime": {
     "end_time": "2018-11-20T11:59:32.261408Z",
     "start_time": "2018-11-20T11:59:32.051851Z"
    }
   },
   "outputs": [
    {
     "data": {
      "text/plain": [
       "<matplotlib.legend.Legend at 0x196678ed748>"
      ]
     },
     "execution_count": 8,
     "metadata": {},
     "output_type": "execute_result"
    },
    {
     "data": {
      "image/png": "[encoded data removed]",
      "text/plain": [
       "<matplotlib.figure.Figure at 0x1966686e470>"
      ]
     },
     "metadata": {},
     "output_type": "display_data"
    }
   ],
   "source": [
    "qin = 2*np.abs(np.sin(np.arange(100)))\n",
    "# Instantiate reservoir\n",
    "res1 = Reservoir2(100, 0.1, qin)\n",
    "\n",
    "# Solve reservoir\n",
    "res1.solve()\n",
    "\n",
    "# Plot results\n",
    "fig = plt.figure()\n",
    "ax = fig.gca() # get current axes\n",
    "ax.plot(res1.output, label='numerical', lw=4)\n",
    "ax.set_xlabel('Time')\n",
    "ax.set_ylabel('S')\n",
    "ax.set_ylim(0)\n",
    "ax.legend()"
   ]
  },
  {
   "cell_type": "markdown",
   "metadata": {},
   "source": [
    "# Coupled reservoir model\n",
    "\n",
    "In this last case, we define a coupled reservoir model. The first reservoir has no inflow  as defined in the first reservoir class `Reservoir1`. The second is fed by the first one and has a variable inflow such as the second class `Reservoir2`. To link them, we write a class `ReservoirModel` and re-use the previously written reservoir classes. The second reservoir is assumed empty at the beginning so that we only have to initiate the model with the two discharge coefficient $k1$ and $k2$ and $S_0$, the initial storage in the first reservoir."
   ]
  },
  {
   "cell_type": "code",
   "execution_count": 9,
   "metadata": {
    "ExecuteTime": {
     "end_time": "2018-11-20T11:59:32.336607Z",
     "start_time": "2018-11-20T11:59:32.263415Z"
    }
   },
   "outputs": [],
   "source": [
    "class ReservoirModel(object):\n",
    "    \n",
    "    def __init__(self, S0, k1, k2, t=100):\n",
    "        \"\"\"Create a coupled reservoir model\n",
    "        \n",
    "        Attributes:\n",
    "        -----------\n",
    "        \n",
    "        S0 : float\n",
    "            Initial storage in the first reservoir\n",
    "        k1 : float\n",
    "            Discharge coefficient of the first reservoir\n",
    "        k2 : float\n",
    "            Discharge coefficent of the second reservoir\n",
    "        t : int\n",
    "            Number of time step for the simulation\n",
    "        \n",
    "        \"\"\"\n",
    "        \n",
    "        self.res1 = Reservoir1(S0, k1, t)\n",
    "        self.res2 = Reservoir2(0, k2, np.zeros(t))\n",
    "        self.tend = t\n",
    "        \n",
    "        # initiate outputs\n",
    "        # col1 = S1, col2 = S2\n",
    "        \n",
    "        self.outputs = np.zeros((t, 2))\n",
    "        self.outputs[0,0] = S0\n",
    "        \n",
    "    def solve(self):\n",
    "        \n",
    "        k1 = self.res1.k\n",
    "        k2 = self.res2.k\n",
    "        \n",
    "        for i in range(self.tend-1):\n",
    "            \n",
    "            # solving reservoir 1\n",
    "            s1 = self.outputs[i, 0]\n",
    "            sol1 = odeint(self.res1.ode, s1, [0,1], args=(k1,))\n",
    "            \n",
    "            # solving reservoir 2\n",
    "            qin = s1 - sol1[1]\n",
    "            \n",
    "            s2 = self.outputs[i, 1]\n",
    "            sol2 = odeint(self.res2.ode, s2, [0,1], args=(k2, qin))\n",
    "            \n",
    "            # store output\n",
    "            \n",
    "            self.outputs[i+1, 0] = sol1[1]\n",
    "            self.outputs[i+1, 1] = sol2[1]\n",
    "            self.res2.inflow[i] = qin\n",
    "            "
   ]
  },
  {
   "cell_type": "code",
   "execution_count": 10,
   "metadata": {
    "ExecuteTime": {
     "end_time": "2018-11-20T11:59:32.629387Z",
     "start_time": "2018-11-20T11:59:32.338612Z"
    }
   },
   "outputs": [
    {
     "data": {
      "text/plain": [
       "Text(0,0.5,'Storage')"
      ]
     },
     "execution_count": 10,
     "metadata": {},
     "output_type": "execute_result"
    },
    {
     "data": {
      "image/png": "[encoded data removed]",
      "text/plain": [
       "<matplotlib.figure.Figure at 0x196678da518>"
      ]
     },
     "metadata": {},
     "output_type": "display_data"
    }
   ],
   "source": [
    "model = ReservoirModel(100, 0.1, 0.1)\n",
    "model.solve()\n",
    "\n",
    "fig = plt.figure()\n",
    "ax = fig.gca()\n",
    "ax.plot(model.outputs[:,0], label='Reservoir 1', lw=4)\n",
    "ax.plot(model.outputs[:,1], label='Reservoir 2', lw=4)\n",
    "ax.legend()\n",
    "ax.set_xlabel('Time')\n",
    "ax.set_ylabel('Storage')"
   ]
  }
 ],
 "metadata": {
  "hide_input": false,
  "kernelspec": {
   "display_name": "Python 3",
   "language": "python",
   "name": "python3"
  },
  "language_info": {
   "codemirror_mode": {
    "name": "ipython",
    "version": 3
   },
   "file_extension": ".py",
   "mimetype": "text/x-python",
   "name": "python",
   "nbconvert_exporter": "python",
   "pygments_lexer": "ipython3",
   "version": "3.6.4"
  },
  "toc": {
   "colors": {
    "hover_highlight": "#DAA520",
    "running_highlight": "#FF0000",
    "selected_highlight": "#FFD700"
   },
   "moveMenuLeft": true,
   "nav_menu": {
    "height": "102px",
    "width": "252px"
   },
   "navigate_menu": true,
   "number_sections": true,
   "sideBar": true,
   "threshold": 4,
   "toc_cell": true,
   "toc_section_display": "block",
   "toc_window_display": true
  },
  "varInspector": {
   "cols": {
    "lenName": 16,
    "lenType": 16,
    "lenVar": 40
   },
   "kernels_config": {
    "python": {
     "delete_cmd_postfix": "",
     "delete_cmd_prefix": "del ",
     "library": "var_list.py",
     "varRefreshCmd": "print(var_dic_list())"
    },
    "r": {
     "delete_cmd_postfix": ") ",
     "delete_cmd_prefix": "rm(",
     "library": "var_list.r",
     "varRefreshCmd": "cat(var_dic_list()) "
    }
   },
   "types_to_exclude": [
    "module",
    "function",
    "builtin_function_or_method",
    "instance",
    "_Feature"
   ],
   "window_display": false
  }
 },
 "nbformat": 4,
 "nbformat_minor": 2
}
