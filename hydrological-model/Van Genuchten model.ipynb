{
 "cells": [
  {
   "cell_type": "markdown",
   "metadata": {
    "toc": "true"
   },
   "source": [
    "# Table of Contents\n",
    " <p><div class=\"lev1 toc-item\"><a href=\"#Van-Genuchten-Parameters\" data-toc-modified-id=\"Van-Genuchten-Parameters-1\"><span class=\"toc-item-num\">1&nbsp;&nbsp;</span>Van Genuchten Parameters</a></div><div class=\"lev1 toc-item\"><a href=\"#Van-Genuchen-Equation\" data-toc-modified-id=\"Van-Genuchen-Equation-2\"><span class=\"toc-item-num\">2&nbsp;&nbsp;</span>Van Genuchen Equation</a></div><div class=\"lev1 toc-item\"><a href=\"#Water-retention-curves\" data-toc-modified-id=\"Water-retention-curves-3\"><span class=\"toc-item-num\">3&nbsp;&nbsp;</span>Water retention curves</a></div>"
   ]
  },
  {
   "cell_type": "markdown",
   "metadata": {},
   "source": [
    "Damien Delforge (UCLouvain), 2018"
   ]
  },
  {
   "cell_type": "code",
   "execution_count": 6,
   "metadata": {
    "ExecuteTime": {
     "end_time": "2018-11-19T12:24:28.467112Z",
     "start_time": "2018-11-19T12:24:28.461101Z"
    },
    "run_control": {
     "frozen": false,
     "read_only": false
    }
   },
   "outputs": [],
   "source": [
    "from io import StringIO\n",
    "import pandas as pd\n",
    "import numpy as np\n",
    "import matplotlib as mpl\n",
    "import matplotlib.pyplot as plt\n",
    "mpl.rcParams['figure.dpi'] = 80"
   ]
  },
  {
   "cell_type": "markdown",
   "metadata": {},
   "source": [
    "# Van Genuchten Parameters\n",
    "\n",
    "Parameters from CalcPTF - Multimodeling with Pedotransfer Functions: PTF Calculator Manual:\n",
    "\n",
    "https://www.ars.usda.gov/ARSUserFiles/80420525/EnvironmentalTransport/CalcPTFFiles/PTF_Manual.version_3.0.pdf\n",
    "\n",
    "With modified alpha for Fine soil: 0.0367 -> 0.00367"
   ]
  },
  {
   "cell_type": "code",
   "execution_count": 7,
   "metadata": {
    "ExecuteTime": {
     "end_time": "2018-11-19T12:24:28.620521Z",
     "start_time": "2018-11-19T12:24:28.507220Z"
    }
   },
   "outputs": [
    {
     "data": {
      "text/html": [
       "<div>\n",
       "<style scoped>\n",
       "    .dataframe tbody tr th:only-of-type {\n",
       "        vertical-align: middle;\n",
       "    }\n",
       "\n",
       "    .dataframe tbody tr th {\n",
       "        vertical-align: top;\n",
       "    }\n",
       "\n",
       "    .dataframe thead th {\n",
       "        text-align: right;\n",
       "    }\n",
       "</style>\n",
       "<table border=\"1\" class=\"dataframe\">\n",
       "  <thead>\n",
       "    <tr style=\"text-align: right;\">\n",
       "      <th></th>\n",
       "      <th>Coarse</th>\n",
       "      <th>Medium</th>\n",
       "      <th>Medium fine</th>\n",
       "      <th>Fine</th>\n",
       "      <th>Very fine</th>\n",
       "    </tr>\n",
       "  </thead>\n",
       "  <tbody>\n",
       "    <tr>\n",
       "      <th>theta_r</th>\n",
       "      <td>0.0250</td>\n",
       "      <td>0.0100</td>\n",
       "      <td>0.0100</td>\n",
       "      <td>0.01000</td>\n",
       "      <td>0.0100</td>\n",
       "    </tr>\n",
       "    <tr>\n",
       "      <th>theta_s</th>\n",
       "      <td>0.4030</td>\n",
       "      <td>0.4390</td>\n",
       "      <td>0.4300</td>\n",
       "      <td>0.52000</td>\n",
       "      <td>0.6140</td>\n",
       "    </tr>\n",
       "    <tr>\n",
       "      <th>alpha</th>\n",
       "      <td>0.0383</td>\n",
       "      <td>0.0314</td>\n",
       "      <td>0.0083</td>\n",
       "      <td>0.00367</td>\n",
       "      <td>0.0265</td>\n",
       "    </tr>\n",
       "    <tr>\n",
       "      <th>n</th>\n",
       "      <td>1.3774</td>\n",
       "      <td>1.1804</td>\n",
       "      <td>1.2539</td>\n",
       "      <td>1.10120</td>\n",
       "      <td>1.1033</td>\n",
       "    </tr>\n",
       "    <tr>\n",
       "      <th>m</th>\n",
       "      <td>0.2740</td>\n",
       "      <td>0.1528</td>\n",
       "      <td>0.2025</td>\n",
       "      <td>0.09190</td>\n",
       "      <td>0.0936</td>\n",
       "    </tr>\n",
       "  </tbody>\n",
       "</table>\n",
       "</div>"
      ],
      "text/plain": [
       "         Coarse  Medium  Medium fine     Fine  Very fine\n",
       "theta_r  0.0250  0.0100       0.0100  0.01000     0.0100\n",
       "theta_s  0.4030  0.4390       0.4300  0.52000     0.6140\n",
       "alpha    0.0383  0.0314       0.0083  0.00367     0.0265\n",
       "n        1.3774  1.1804       1.2539  1.10120     1.1033\n",
       "m        0.2740  0.1528       0.2025  0.09190     0.0936"
      ]
     },
     "execution_count": 7,
     "metadata": {},
     "output_type": "execute_result"
    }
   ],
   "source": [
    "table = StringIO(\"\"\"\n",
    "Coarse\tMedium\tMedium fine\tFine\tVery fine\n",
    "theta_r\t0.025\t0.01\t0.01\t0.01\t0.01\n",
    "theta_s\t0.403\t0.439\t0.43\t0.52\t0.614\n",
    "alpha\t0.0383\t0.0314\t0.0083\t0.00367\t0.0265\n",
    "n\t1.3774\t1.1804\t1.2539\t1.1012\t1.1033\n",
    "m\t0.274\t0.1528\t0.2025\t0.0919\t0.0936\n",
    "\"\"\")\n",
    "params = pd.read_table(table)\n",
    "params"
   ]
  },
  {
   "cell_type": "markdown",
   "metadata": {},
   "source": [
    "# Van Genuchen Equation\n",
    "\n",
    "See below for parameter description."
   ]
  },
  {
   "cell_type": "code",
   "execution_count": 8,
   "metadata": {
    "ExecuteTime": {
     "end_time": "2018-11-19T12:24:28.800000Z",
     "start_time": "2018-11-19T12:24:28.622526Z"
    }
   },
   "outputs": [],
   "source": [
    "def thetaVG(h, theta_r, theta_s, alpha, n, m):\n",
    "    \"\"\"Van Genuchten equation\n",
    "    \n",
    "    The Van Genuchten equation relates the succion\n",
    "    within the soil matrix to the volumetric water\n",
    "    content in the soil _[1].\n",
    "    \n",
    "    Parameters\n",
    "    ----------\n",
    "    h : float\n",
    "        succion in the soil [cm^-1]\n",
    "    theta_r : float\n",
    "        Residual volumetric water content [-]\n",
    "    tehta_s : float\n",
    "        Volumetric water content at saturation [-]\n",
    "    alpha : float\n",
    "        Air entry value, i.e. matrix succion from which air \n",
    "        starts to penetrate into the soil [cm^-1]\n",
    "    n : float\n",
    "        Shape parameter [-]\n",
    "    m : float\n",
    "        Shape parameter [-]\n",
    "        \n",
    "    Return\n",
    "    ------\n",
    "    theta : float\n",
    "        volumetric water content [-]\n",
    "        \n",
    "    See also\n",
    "    --------\n",
    "    \n",
    "    _[1] : van Genuchten, M.Th. (1980), doi:10.2136/sssaj1980.03615995004400050002x\n",
    "        \n",
    "    \"\"\"\n",
    "    num = (theta_s - theta_r)\n",
    "    den = (1 + (alpha*np.abs(h))**n)**m\n",
    "    theta = theta_r + num/den\n",
    "    \n",
    "    return theta\n",
    "    "
   ]
  },
  {
   "cell_type": "markdown",
   "metadata": {},
   "source": [
    "# Water retention curves\n",
    "\n",
    "These are plot for 3 soil structure: coarse, medium (fine) and fine."
   ]
  },
  {
   "cell_type": "code",
   "execution_count": 9,
   "metadata": {
    "ExecuteTime": {
     "end_time": "2018-11-19T12:24:28.929346Z",
     "start_time": "2018-11-19T12:24:28.804011Z"
    }
   },
   "outputs": [
    {
     "data": {
      "text/html": [
       "<div>\n",
       "<style scoped>\n",
       "    .dataframe tbody tr th:only-of-type {\n",
       "        vertical-align: middle;\n",
       "    }\n",
       "\n",
       "    .dataframe tbody tr th {\n",
       "        vertical-align: top;\n",
       "    }\n",
       "\n",
       "    .dataframe thead th {\n",
       "        text-align: right;\n",
       "    }\n",
       "</style>\n",
       "<table border=\"1\" class=\"dataframe\">\n",
       "  <thead>\n",
       "    <tr style=\"text-align: right;\">\n",
       "      <th></th>\n",
       "      <th>h</th>\n",
       "      <th>Coarse</th>\n",
       "      <th>Medium fine</th>\n",
       "      <th>Fine</th>\n",
       "    </tr>\n",
       "  </thead>\n",
       "  <tbody>\n",
       "    <tr>\n",
       "      <th>0</th>\n",
       "      <td>1.000000</td>\n",
       "      <td>0.401850</td>\n",
       "      <td>0.429791</td>\n",
       "      <td>0.519903</td>\n",
       "    </tr>\n",
       "    <tr>\n",
       "      <th>1</th>\n",
       "      <td>1.389495</td>\n",
       "      <td>0.401198</td>\n",
       "      <td>0.429685</td>\n",
       "      <td>0.519860</td>\n",
       "    </tr>\n",
       "    <tr>\n",
       "      <th>2</th>\n",
       "      <td>1.930698</td>\n",
       "      <td>0.400183</td>\n",
       "      <td>0.429524</td>\n",
       "      <td>0.519799</td>\n",
       "    </tr>\n",
       "    <tr>\n",
       "      <th>3</th>\n",
       "      <td>2.682696</td>\n",
       "      <td>0.398612</td>\n",
       "      <td>0.429283</td>\n",
       "      <td>0.519712</td>\n",
       "    </tr>\n",
       "    <tr>\n",
       "      <th>4</th>\n",
       "      <td>3.727594</td>\n",
       "      <td>0.396201</td>\n",
       "      <td>0.428920</td>\n",
       "      <td>0.519587</td>\n",
       "    </tr>\n",
       "  </tbody>\n",
       "</table>\n",
       "</div>"
      ],
      "text/plain": [
       "          h    Coarse  Medium fine      Fine\n",
       "0  1.000000  0.401850     0.429791  0.519903\n",
       "1  1.389495  0.401198     0.429685  0.519860\n",
       "2  1.930698  0.400183     0.429524  0.519799\n",
       "3  2.682696  0.398612     0.429283  0.519712\n",
       "4  3.727594  0.396201     0.428920  0.519587"
      ]
     },
     "execution_count": 9,
     "metadata": {},
     "output_type": "execute_result"
    }
   ],
   "source": [
    "wrc = pd.DataFrame()\n",
    "wrc['h'] = h_arr = np.logspace(0,7)\n",
    "for i, col in enumerate(params.columns[[0,2,3]]):\n",
    "    wrc[col] = wrc['h'].apply(lambda x: thetaVG(x,*(params[col])))\n",
    "wrc.head()"
   ]
  },
  {
   "cell_type": "code",
   "execution_count": 10,
   "metadata": {
    "ExecuteTime": {
     "end_time": "2018-11-19T12:24:29.621027Z",
     "start_time": "2018-11-19T12:24:28.932354Z"
    }
   },
   "outputs": [
    {
     "data": {
      "text/plain": [
       "<matplotlib.legend.Legend at 0x14d9b79ae48>"
      ]
     },
     "execution_count": 10,
     "metadata": {},
     "output_type": "execute_result"
    },
    {
     "data": {
      "image/png": "[encoded data removed]",
      "text/plain": [
       "<matplotlib.figure.Figure at 0x14d9b6b8240>"
      ]
     },
     "metadata": {},
     "output_type": "display_data"
    }
   ],
   "source": [
    "ax = wrc.plot(x='h')\n",
    "ax.set_xscale('log')\n",
    "ax.set_ylabel('$\\\\theta [$-$]$', fontsize=14)\n",
    "ax.set_xlabel('$ h$ [$cm^{-1}$]', fontsize=14)\n",
    "cpal = plt.rcParams['axes.prop_cycle'].by_key()['color']\n",
    "for i, col in enumerate(params.columns[[0,2,3]]):\n",
    "    ax.axhline(params[col]['theta_s'], xmax=0.25,ls=':', color=cpal[i], lw=1.)\n",
    "    #ax.axhline(params[col]['theta_r'], ls='-.', color=cpal[i], lw=1.)\n",
    "    theta_fc = thetaVG(10**2.5, *(params[col]))\n",
    "    theta_wp = thetaVG(10**4, *(params[col]))\n",
    "    ax.plot(10**2.5, theta_fc, '.', color=cpal[i])\n",
    "    ax.plot(10**4, theta_wp, '.', color=cpal[i])\n",
    "\n",
    "\n",
    "ax.axvline(10**2.5, color='k', ls=':', lw=1)\n",
    "ax.axvline(10**4, color='k', ls=':', lw=1)\n",
    "\n",
    "ax.get_figure().set_size_inches(4,6)\n",
    "ax2 = ax.twinx()\n",
    "ax3 = ax.twiny()\n",
    "ax3.set_xscale('log')\n",
    "ax2.set_ylim(ax.get_ylim())\n",
    "ax3.set_xlim(ax.get_xlim())\n",
    "ax3.set_xticks([10**2.5, 10**4])\n",
    "ax3.set_xticklabels(['2.5', '4'])\n",
    "\n",
    "ax.text(1,0.38,'$\\\\theta_s$', color=cpal[0])\n",
    "ax.text(1,0.41,'$\\\\theta_s$', color=cpal[1])\n",
    "ax.text(1,0.5,'$\\\\theta_s$', color=cpal[2])\n",
    "ax.text(0.2, 1.13, 'Soil drainage\\n Risk of anoxia',\n",
    "        horizontalalignment='center',\n",
    "        verticalalignment='center',\n",
    "        rotation=45,\n",
    "        transform=ax.transAxes)\n",
    "ax.text(0.5, 1.13, 'Transpiration \\n affected',\n",
    "        horizontalalignment='center',\n",
    "        verticalalignment='center',\n",
    "        rotation=45,\n",
    "        transform=ax.transAxes)\n",
    "\n",
    "ax.text(0.8, 1.13, 'Permanent \\n wilting',\n",
    "        horizontalalignment='center',\n",
    "        verticalalignment='center',\n",
    "        rotation=45,\n",
    "        transform=ax.transAxes)\n",
    "\n",
    "ax3.set_xlabel('pF', fontsize=14)\n",
    "ax3.xaxis.set_label_coords(0.95, 1.02)\n",
    "\n",
    "#Arrows for AWC\n",
    "theta_fc1 = thetaVG(10**2.5, *(params['Coarse']))\n",
    "theta_fc2 = thetaVG(10**2.5, *(params['Medium fine']))\n",
    "theta_fc3 = thetaVG(10**2.5, *(params['Fine']))\n",
    "theta_wp1 = thetaVG(10**4, *(params['Coarse']))\n",
    "theta_wp2 = thetaVG(10**4, *(params['Medium fine']))\n",
    "theta_wp3 = thetaVG(10**4, *(params['Fine']))\n",
    "\n",
    "posx = 10**5.5\n",
    "ax.hlines(theta_fc1, xmin=10**2.5, xmax=posx, linestyle=':',  lw=1, color=cpal[0])\n",
    "ax.hlines(theta_wp1, xmin=10**4, xmax=posx,  linestyle=':',lw=1, color=cpal[0])\n",
    "ax.annotate(s='', xy=(posx,theta_wp1), xytext=(posx,theta_fc1), arrowprops=dict(arrowstyle='<->', linewidth=1, color=cpal[0]))\n",
    "ax.text(posx, (theta_fc1+theta_wp1)/2, ' AWC', verticalalignment='center', color=cpal[0])\n",
    "\n",
    "posx = 10**5\n",
    "ax.hlines(theta_fc2, xmin=10**2.5, xmax=posx, linestyle=':',  lw=1, color=cpal[1])\n",
    "ax.hlines(theta_wp2, xmin=10**4, xmax=posx,  linestyle=':',lw=1, color=cpal[1])\n",
    "ax.annotate(s='', xy=(posx,theta_wp2), xytext=(posx,theta_fc2), arrowprops=dict(arrowstyle='<->', linewidth=1, color=cpal[1]))\n",
    "ax.text(posx, (theta_fc2+theta_wp2)/2, ' AWC', verticalalignment='center', color=cpal[1])\n",
    "\n",
    "posx = 10**4.5\n",
    "ax.hlines(theta_fc3, xmin=10**2.5, xmax=posx, linestyle=':',  lw=1, color=cpal[2])\n",
    "ax.hlines(theta_wp3, xmin=10**4, xmax=posx,  linestyle=':',lw=1, color=cpal[2])\n",
    "ax.annotate(s='', xy=(posx,theta_wp3), xytext=(posx,theta_fc3), arrowprops=dict(arrowstyle='<->', linewidth=1, color=cpal[2]))\n",
    "ax.text(posx, (theta_fc3+theta_wp3)/2, ' AWC', verticalalignment='center', color=cpal[2])\n",
    "ax.legend(['Coarse', 'Medium', 'Fine'], frameon=False, loc='lower left')\n"
   ]
  }
 ],
 "metadata": {
  "hide_input": false,
  "kernelspec": {
   "display_name": "Python 3",
   "language": "python",
   "name": "python3"
  },
  "language_info": {
   "codemirror_mode": {
    "name": "ipython",
    "version": 3
   },
   "file_extension": ".py",
   "mimetype": "text/x-python",
   "name": "python",
   "nbconvert_exporter": "python",
   "pygments_lexer": "ipython3",
   "version": "3.6.4"
  },
  "toc": {
   "colors": {
    "hover_highlight": "#DAA520",
    "running_highlight": "#FF0000",
    "selected_highlight": "#FFD700"
   },
   "moveMenuLeft": true,
   "nav_menu": {
    "height": "66px",
    "width": "252px"
   },
   "navigate_menu": true,
   "number_sections": true,
   "sideBar": true,
   "threshold": 4,
   "toc_cell": true,
   "toc_section_display": "block",
   "toc_window_display": true
  },
  "varInspector": {
   "cols": {
    "lenName": 16,
    "lenType": 16,
    "lenVar": 40
   },
   "kernels_config": {
    "python": {
     "delete_cmd_postfix": "",
     "delete_cmd_prefix": "del ",
     "library": "var_list.py",
     "varRefreshCmd": "print(var_dic_list())"
    },
    "r": {
     "delete_cmd_postfix": ") ",
     "delete_cmd_prefix": "rm(",
     "library": "var_list.r",
     "varRefreshCmd": "cat(var_dic_list()) "
    }
   },
   "types_to_exclude": [
    "module",
    "function",
    "builtin_function_or_method",
    "instance",
    "_Feature"
   ],
   "window_display": false
  }
 },
 "nbformat": 4,
 "nbformat_minor": 2
}
