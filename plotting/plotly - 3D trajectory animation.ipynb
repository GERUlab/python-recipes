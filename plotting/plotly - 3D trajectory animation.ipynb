{
 "cells": [
  {
   "cell_type": "code",
   "execution_count": 1,
   "metadata": {
    "ExecuteTime": {
     "end_time": "2018-03-14T18:23:48.539115Z",
     "start_time": "2018-03-14T18:23:47.491322Z"
    },
    "run_control": {
     "frozen": false,
     "read_only": false
    }
   },
   "outputs": [
    {
     "data": {
      "text/html": [
       "<script>requirejs.config({paths: { 'plotly': ['https://cdn.plot.ly/plotly-latest.min']},});if(!window.Plotly) {{require(['plotly'],function(plotly) {window.Plotly=plotly;});}}</script>"
      ],
      "text/vnd.plotly.v1+html": [
       "<script>requirejs.config({paths: { 'plotly': ['https://cdn.plot.ly/plotly-latest.min']},});if(!window.Plotly) {{require(['plotly'],function(plotly) {window.Plotly=plotly;});}}</script>"
      ]
     },
     "metadata": {},
     "output_type": "display_data"
    }
   ],
   "source": [
    "import numpy as np\n",
    "import plotly.plotly as py\n",
    "import plotly.graph_objs as go\n",
    "from plotly.grid_objs import Grid, Column\n",
    "import time"
   ]
  },
  {
   "cell_type": "markdown",
   "metadata": {},
   "source": [
    "# Generate random walk with numpy"
   ]
  },
  {
   "cell_type": "code",
   "execution_count": 2,
   "metadata": {
    "ExecuteTime": {
     "end_time": "2018-03-14T18:23:48.549135Z",
     "start_time": "2018-03-14T18:23:48.543119Z"
    },
    "run_control": {
     "frozen": false,
     "read_only": false
    }
   },
   "outputs": [],
   "source": [
    "np.random.seed(0)\n",
    "brownian_motion = np.cumsum(np.random.uniform(low=-0.5, high=0.5, size=(100,3)), axis=0)"
   ]
  },
  {
   "cell_type": "markdown",
   "metadata": {},
   "source": [
    "# Build the plotly grid"
   ]
  },
  {
   "cell_type": "code",
   "execution_count": 3,
   "metadata": {
    "ExecuteTime": {
     "end_time": "2018-03-14T18:23:50.336731Z",
     "start_time": "2018-03-14T18:23:48.551140Z"
    }
   },
   "outputs": [
    {
     "data": {
      "text/plain": [
       "'https://plot.ly/~dadelforge/84/'"
      ]
     },
     "execution_count": 3,
     "metadata": {},
     "output_type": "execute_result"
    }
   ],
   "source": [
    "my_columns = []\n",
    "nr_frames = brownian_motion.shape[0]\n",
    "for k in range(nr_frames):\n",
    "    my_columns.extend(\n",
    "        [Column(brownian_motion[:k,0], 'x{}'.format(k+1)),\n",
    "         Column(brownian_motion[:k,1], 'y{}'.format(k+1)),\n",
    "         Column(brownian_motion[:k,2], 'z{}'.format(k+1))\n",
    "        ])\n",
    "grid = Grid(my_columns)\n",
    "py.grid_ops.upload(grid, 'anim_random'+str(time.time()), auto_open=False)"
   ]
  },
  {
   "cell_type": "markdown",
   "metadata": {},
   "source": [
    "# Make the figure"
   ]
  },
  {
   "cell_type": "code",
   "execution_count": 20,
   "metadata": {
    "ExecuteTime": {
     "end_time": "2018-03-14T18:56:52.018548Z",
     "start_time": "2018-03-14T18:56:50.481749Z"
    },
    "run_control": {
     "frozen": false,
     "read_only": false
    }
   },
   "outputs": [
    {
     "data": {
      "text/html": [
       "<iframe id=\"igraph\" scrolling=\"no\" style=\"border:none;\" seamless=\"seamless\" src=\"https://plot.ly/~dadelforge/94.embed\" height=\"600px\" width=\"600px\"></iframe>"
      ],
      "text/plain": [
       "<plotly.tools.PlotlyDisplay object>"
      ]
     },
     "execution_count": 20,
     "metadata": {},
     "output_type": "execute_result"
    }
   ],
   "source": [
    "data = [go.Scatter3d(\n",
    "    xsrc = grid.get_column_reference('x1'),\n",
    "    ysrc = grid.get_column_reference('y1'),\n",
    "    zsrc = grid.get_column_reference('z1'),\n",
    "    marker=dict(\n",
    "        size=4,\n",
    "    ),\n",
    "    line=dict(\n",
    "        color='#1f77b4',\n",
    "        width=1\n",
    "    )\n",
    ")]\n",
    "\n",
    "\n",
    "frames=[\n",
    "    {\n",
    "        'data':[\n",
    "            go.Scatter3d(\n",
    "                xsrc = grid.get_column_reference('x{}'.format(k + 1)),\n",
    "                ysrc = grid.get_column_reference('y{}'.format(k + 1)),\n",
    "                zsrc = grid.get_column_reference('z{}'.format(k + 1))\n",
    "            )],\n",
    "        'name':'frame{}'.format(k + 1)\n",
    "    } for k in range(nr_frames)]\n",
    "\n",
    "sliders=[\n",
    "    dict(\n",
    "        steps=[dict(method='animate',\n",
    "                    args= [['frame{}'.format(k + 1)],\n",
    "                            dict(mode='immediate',\n",
    "                                 frame= dict(duration=nr_frames, redraw= False),\n",
    "                                 transition=dict(duration=0))],\n",
    "                    label='{:d}'.format(k+1)) for k in range(nr_frames)], \n",
    "        transition= dict(duration=0),\n",
    "        x=0,\n",
    "        y=0, \n",
    "        currentvalue=dict(font=dict(size=12), \n",
    "                          prefix='Time: ', \n",
    "                          visible=True, \n",
    "                          xanchor='center'\n",
    "                         ),  \n",
    "        len=1.0\n",
    "    )\n",
    "]\n",
    "\n",
    "axis3d = dict(\n",
    "    showbackground= True,\n",
    "    backgroundcolor=\"rgb(230, 230,230)\",\n",
    "    gridcolor=\"rgb(255, 255, 255)\",      \n",
    "    zerolinecolor=\"rgb(255, 255, 255)\",  \n",
    ")\n",
    "\n",
    "layout3d = dict(\n",
    "         title='Random walk', \n",
    "         width=600,\n",
    "         height=600,\n",
    "         scene=dict(xaxis=dict(axis3d, **dict(range=[min(brownian_motion[:,0]), max(brownian_motion[:,0])], autorange=False)), \n",
    "                    yaxis=dict(axis3d, **dict(range=[min(brownian_motion[:,1]), max(brownian_motion[:,1])], autorange=False)), \n",
    "                    zaxis=dict(axis3d, **dict(range=[min(brownian_motion[:,2]), max(brownian_motion[:,2])], autorange=False)), \n",
    "                    aspectratio=dict(x=1, y=1, z=1),\n",
    "                    ),\n",
    "         updatemenus=[\n",
    "             dict(type='buttons',\n",
    "                  showactive=False,\n",
    "                  y=1,\n",
    "                  x=1.3,\n",
    "                  xanchor='right',\n",
    "                  yanchor='top',\n",
    "                  pad=dict(t=0, r=10),\n",
    "                  buttons=[dict(label='Play',\n",
    "                                method='animate',\n",
    "                                args=[\n",
    "                                    None, \n",
    "                                    dict(frame=dict(duration=nr_frames, redraw=False),\n",
    "                                         transition=dict(duration=0),\n",
    "                                         fromcurrent=True,\n",
    "                                         mode='immediate')\n",
    "                                ])])\n",
    "         ],\n",
    "        sliders=sliders\n",
    ")\n",
    "\n",
    "\n",
    "fig=dict(data=data, layout=layout3d, frames=frames)\n",
    "py.icreate_animations(fig, filename='anim_trajectory3d'+str(time.time()))"
   ]
  },
  {
   "cell_type": "raw",
   "metadata": {},
   "source": [
    "data = [dict(\n",
    "    type='scatter3d',\n",
    "    x = grid.get_column_reference('x1'),\n",
    "    y = grid.get_column_reference('y1'),\n",
    "    z = grid.get_column_reference('z1'),\n",
    "    marker=dict(\n",
    "        size=4\n",
    "    ),\n",
    "    line=dict(\n",
    "        color='#1f77b4',\n",
    "        width=1\n",
    "    )\n",
    ")]\n",
    "\n",
    "\n",
    "frames = []\n",
    "\n",
    "for k in range(nr_frames):\n",
    "    frames.append(\n",
    "        dict(\n",
    "            data = dict(\n",
    "                type='scatter3d',\n",
    "                x=grid.get_column_reference('x{}'.format(k+1)),\n",
    "                y=grid.get_column_reference('y{}'.format(k+1)),\n",
    "                z=grid.get_column_reference('z{}'.format(k+1))\n",
    "            )\n",
    "        )\n",
    "    )\n",
    "\n",
    "fig = dict(data=data, frames= frames)\n",
    "iplot(fig, validate=True)"
   ]
  }
 ],
 "metadata": {
  "hide_input": false,
  "kernelspec": {
   "display_name": "Python 3",
   "language": "python",
   "name": "python3"
  },
  "language_info": {
   "codemirror_mode": {
    "name": "ipython",
    "version": 3
   },
   "file_extension": ".py",
   "mimetype": "text/x-python",
   "name": "python",
   "nbconvert_exporter": "python",
   "pygments_lexer": "ipython3",
   "version": "3.6.4"
  },
  "varInspector": {
   "cols": {
    "lenName": 16,
    "lenType": 16,
    "lenVar": 40
   },
   "kernels_config": {
    "python": {
     "delete_cmd_postfix": "",
     "delete_cmd_prefix": "del ",
     "library": "var_list.py",
     "varRefreshCmd": "print(var_dic_list())"
    },
    "r": {
     "delete_cmd_postfix": ") ",
     "delete_cmd_prefix": "rm(",
     "library": "var_list.r",
     "varRefreshCmd": "cat(var_dic_list()) "
    }
   },
   "types_to_exclude": [
    "module",
    "function",
    "builtin_function_or_method",
    "instance",
    "_Feature"
   ],
   "window_display": false
  }
 },
 "nbformat": 4,
 "nbformat_minor": 2
}
