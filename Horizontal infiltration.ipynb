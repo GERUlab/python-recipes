{
 "cells": [
  {
   "cell_type": "markdown",
   "metadata": {},
   "source": [
    "# Horizontal infiltration \n",
    "## M. Vanclooster 05/03/2018\n",
    "\n",
    "In this notebook, we evaluate the solution of the horizontal infiltration problem, for a soil characterized by a constant hydraulic diffusivity. \n",
    "\n",
    "Let's first recall the flow equation for which we evaluate the solution:\n",
    "\n",
    "\\begin{equation}\n",
    "    \\frac{\\partial \\theta(x,t)}{\\partial t}=D \\frac{\\partial^2\\theta(x,t)}{\\partial x^2}\n",
    "\\end{equation}\n",
    "\n",
    "As explained in the theoretical course, the solution of this differential equation can be obtained for the following initial and boundary conditions:\n",
    "\n",
    "\\begin{equation}\n",
    "    \\theta(x,t=0)=\\theta_i\n",
    "\\end{equation}\n",
    "\n",
    "\\begin{equation}\n",
    "    \\theta(x=0,t)=\\theta_s\n",
    "\\end{equation}\n",
    "\n",
    "\\begin{equation}\n",
    "    \\theta(x \\rightarrow \\infty,t)=\\theta_i\n",
    "\\end{equation}\n",
    "\n",
    "The solution is as follows:\n",
    "\n",
    "\\begin{equation}\n",
    "    \\theta(x,t)=(\\theta_s-\\theta_i) \\left(1-erf\\left(\\frac{x}{2\\sqrt{D t}} \\right) \\right)+\\theta_i\n",
    "\\end{equation}\n",
    "\n",
    "In this solution, the error function appears. This function is defined as:\n",
    "\\begin{equation}\n",
    "    erf(x)=\\frac{2}{\\sqrt\\pi} \\int_{0}^{x} e^{-t^2} dt\n",
    "\\end{equation}\n",
    "\n",
    "an is numerically implemented in $Python$.\n",
    "\n",
    "Let's solve this equation for a set of values of x,t and D.\n"
   ]
  },
  {
   "cell_type": "markdown",
   "metadata": {},
   "source": [
    "Let's solve this in $Sympy$. Let's calculate the Laplace transform of the left hand amd right hand side of the equation:"
   ]
  },
  {
   "cell_type": "code",
   "execution_count": 4,
   "metadata": {
    "scrolled": true
   },
   "outputs": [
    {
     "data": {
      "text/plain": [
       "Text(0,0.5,'theta (-)')"
      ]
     },
     "execution_count": 4,
     "metadata": {},
     "output_type": "execute_result"
    },
    {
     "data": {
      "image/png": "[encoded data removed]",
      "text/plain": [
       "<matplotlib.figure.Figure at 0x20e977d1198>"
      ]
     },
     "metadata": {},
     "output_type": "display_data"
    }
   ],
   "source": [
    "# Miscellaneous operating system interfaces\n",
    "import os\n",
    "# Python Numerical computating library\n",
    "import numpy as np\n",
    "# Python Scientifical computing library\n",
    "import scipy as sc\n",
    "from scipy import special\n",
    "# Python plotting library\n",
    "from matplotlib import pyplot as plt\n",
    "# Allowing plot inside the notebook\n",
    "%matplotlib inline\n",
    "\n",
    "x=np.arange(0,100,1) # Distance in cm\n",
    "t=np.arange(0.1,100,1) # Time in days\n",
    "\n",
    "\n",
    "theta_s = 0.4 # Boundary condition\n",
    "theta_i = 0.1 # Initial condition\n",
    "D=4. # Diffusion in cm*2/day\n",
    "\n",
    "theta=100*[0]\n",
    "for i in range(0,100):\n",
    "    theta[i]=(theta_s-theta_i)*(1-sc.special.erf(x/(2*(D*t[i])**0.5)))+theta_i \n",
    "plt.plot(x,theta[i]);\n",
    "plt.xlabel('x (cm)')\n",
    "plt.ylabel('theta (-)')\n",
    "\n"
   ]
  },
  {
   "cell_type": "markdown",
   "metadata": {},
   "source": [
    "Play a bit around with the diffusion coefficient. What will be the effect of modifying the diffusion coefficient on the infiltration solution."
   ]
  },
  {
   "cell_type": "code",
   "execution_count": null,
   "metadata": {},
   "outputs": [],
   "source": []
  },
  {
   "cell_type": "code",
   "execution_count": null,
   "metadata": {},
   "outputs": [],
   "source": []
  },
  {
   "cell_type": "code",
   "execution_count": null,
   "metadata": {},
   "outputs": [],
   "source": []
  }
 ],
 "metadata": {
  "kernelspec": {
   "display_name": "Python 3",
   "language": "python",
   "name": "python3"
  }
 },
 "nbformat": 4,
 "nbformat_minor": 2
}
