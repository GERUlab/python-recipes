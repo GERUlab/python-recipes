{
 "cells": [
  {
   "cell_type": "markdown",
   "metadata": {},
   "source": [
    "# Soil water capacity modelling  \n",
    "## M. Vanclooster (UCL/AGRO/ELI:16/02/2017)\n",
    "\n",
    "In this $\\textit{Jupyter notebook}$,we develop an approach for modelling the soil moisture capacity curve. We use in this notebook the symbolic calculating capacities of $\\textit{Python}$. We therefore rely on the $\\textit{Sympy}$ library. "
   ]
  },
  {
   "cell_type": "markdown",
   "metadata": {},
   "source": [
    "Let's first redefine the libraries that we need in this notebook. "
   ]
  },
  {
   "cell_type": "code",
   "execution_count": 2,
   "metadata": {},
   "outputs": [],
   "source": [
    "# The libraries below are the same as in the previous notebook \n",
    "import os\n",
    "import pandas as pd\n",
    "import numpy as np\n",
    "import scipy as sc\n",
    "from matplotlib import pyplot as plt\n",
    "%matplotlib inline\n",
    "# Getting current directory\n",
    "cdir = 'C:/Users/vanclooster/Hubic/Documents/2018/Documents2018/cours/Hydrodynamiques des sols/Support Python'\n",
    "\n",
    "# We add now the library that allows to perform symbolic calculations\n",
    "from sympy import *"
   ]
  },
  {
   "cell_type": "markdown",
   "metadata": {},
   "source": [
    "Lets' start by defining the symbolic variables with which we are going to work"
   ]
  },
  {
   "cell_type": "code",
   "execution_count": 3,
   "metadata": {},
   "outputs": [],
   "source": [
    "h = Symbol('h')\n",
    "th = Symbol('th')\n",
    "alfa = Symbol('alfa')\n",
    "ths = Symbol('ths')\n",
    "thr = Symbol('thr')\n",
    "n = Symbol('n')"
   ]
  },
  {
   "cell_type": "markdown",
   "metadata": {},
   "source": [
    "We define the moisture retention curve as in previous notebook. Yet, this is now done in symbolic format, and hence no numerical values are assigned to the variables yet. "
   ]
  },
  {
   "cell_type": "code",
   "execution_count": 4,
   "metadata": {},
   "outputs": [],
   "source": [
    "th = thr+(ths-thr)/(1+(alfa*h)**n)**(1-1/n)"
   ]
  },
  {
   "cell_type": "markdown",
   "metadata": {},
   "source": [
    "We will now introduce the differential moisture capacity. By definition, this is equal to the negative of the slope of the moisture retention curve. Hence: "
   ]
  },
  {
   "cell_type": "markdown",
   "metadata": {},
   "source": [
    "\\begin{equation}\n",
    "C(h) =-\\frac {\\partial \\theta}{\\partial h} \n",
    "\\end{equation}"
   ]
  },
  {
   "cell_type": "markdown",
   "metadata": {},
   "source": [
    "Using the symbolic calculator of $\\textit{Sympy}$, we obtain the closed-form expression of this moisture capacity"
   ]
  },
  {
   "cell_type": "code",
   "execution_count": 5,
   "metadata": {},
   "outputs": [],
   "source": [
    "c=-diff(th,h)"
   ]
  },
  {
   "cell_type": "code",
   "execution_count": 6,
   "metadata": {},
   "outputs": [
    {
     "data": {
      "text/plain": [
       "-n*(alfa*h)**n*(-1 + 1/n)*(-thr + ths)*((alfa*h)**n + 1)**(-1 + 1/n)/(h*((alfa*h)**n + 1))"
      ]
     },
     "execution_count": 6,
     "metadata": {},
     "output_type": "execute_result"
    }
   ],
   "source": [
    "c"
   ]
  },
  {
   "cell_type": "markdown",
   "metadata": {},
   "source": [
    "Yep, this is indeed the formula we need to obtain a closed-form expression of the differential water capacity: "
   ]
  },
  {
   "cell_type": "markdown",
   "metadata": {},
   "source": [
    "\\begin{equation}\n",
    "    C(h)=\\frac{n(\\alpha h)^{n}(-1 + 1/n)(-\\theta_{r} + \\theta_{s})((\\alpha h)^{n} + 1)^{(-1 + 1/n)}}{h((\\alpha h)^{n} + 1)}\n",
    "\\end{equation}"
   ]
  },
  {
   "cell_type": "markdown",
   "metadata": {},
   "source": [
    "We can asssign numerical values to this curve as was done in previous notebook. We first define $\\textit{h}$ and numerical values for the model parameters. "
   ]
  },
  {
   "cell_type": "code",
   "execution_count": 11,
   "metadata": {},
   "outputs": [],
   "source": [
    "# Independent variable (pF and h (cm))\n",
    "pf = np.arange(0, 7, 0.1)\n",
    "h_num = 10**pf #cm!\n",
    "\n",
    "# Hydraulic parameters\n",
    "thr_num = 0.01\n",
    "ths_num = 0.4\n",
    "alfa_num = 0.001\n",
    "n_num = 1.1\n",
    "m_num = 1-1/n_num"
   ]
  },
  {
   "cell_type": "markdown",
   "metadata": {},
   "source": [
    "Subsequently, we calculate the values of the capacity. We copy and paste the previously obtained equation and change the parameters to its numerical values."
   ]
  },
  {
   "cell_type": "code",
   "execution_count": 12,
   "metadata": {},
   "outputs": [],
   "source": [
    "c=-n_num*(alfa_num*h_num)**n_num*(-1 + 1/n_num)*(-thr_num + ths_num)*((alfa_num*h_num)**n_num + 1)**(-1 + 1/n_num)/(h_num*((alfa_num*h_num)**n_num + 1))"
   ]
  },
  {
   "cell_type": "code",
   "execution_count": 13,
   "metadata": {},
   "outputs": [
    {
     "data": {
      "text/plain": [
       "array([1.95356208e-05, 1.99875154e-05, 2.04489353e-05, 2.09197851e-05,\n",
       "       2.13998666e-05, 2.18888452e-05, 2.23862057e-05, 2.28911945e-05,\n",
       "       2.34027437e-05, 2.39193744e-05, 2.44390700e-05, 2.49591149e-05,\n",
       "       2.54758897e-05, 2.59846140e-05, 2.64790286e-05, 2.69510116e-05,\n",
       "       2.73901298e-05, 2.77831372e-05, 2.81134557e-05, 2.83607075e-05,\n",
       "       2.85004163e-05, 2.85040630e-05, 2.83397501e-05, 2.79737801e-05,\n",
       "       2.73734406e-05, 2.65111364e-05, 2.53696645e-05, 2.39478828e-05,\n",
       "       2.22654229e-05, 2.03647506e-05, 1.83091528e-05, 1.61762964e-05,\n",
       "       1.40485321e-05, 1.20023731e-05, 1.00998454e-05, 8.38355743e-06,\n",
       "       6.87589739e-06, 5.58150293e-06, 4.49154771e-06, 3.58844893e-06,\n",
       "       2.85004163e-06, 2.25277107e-06, 1.77383914e-06, 1.39245537e-06,\n",
       "       1.09042071e-06, 8.52265818e-07, 6.65123126e-07, 5.18461211e-07,\n",
       "       4.03765641e-07, 3.14216639e-07, 2.44390700e-07, 1.89998345e-07,\n",
       "       1.47661330e-07, 1.14727744e-07, 8.91210902e-08, 6.92186061e-08,\n",
       "       5.37540345e-08, 4.17404588e-08, 3.24093784e-08, 2.51627910e-08,\n",
       "       1.95356208e-08, 1.51663238e-08, 1.17739327e-08, 9.14015491e-09,\n",
       "       7.09542480e-09, 5.50804766e-09, 4.27575351e-09, 3.31913016e-09,\n",
       "       2.57651874e-09, 2.00004750e-09])"
      ]
     },
     "execution_count": 13,
     "metadata": {},
     "output_type": "execute_result"
    }
   ],
   "source": [
    "c"
   ]
  },
  {
   "cell_type": "markdown",
   "metadata": {},
   "source": [
    "We subsequently visualise the results..."
   ]
  },
  {
   "cell_type": "code",
   "execution_count": 14,
   "metadata": {},
   "outputs": [
    {
     "data": {
      "text/plain": [
       "Text(0.5,0,'pF')"
      ]
     },
     "execution_count": 14,
     "metadata": {},
     "output_type": "execute_result"
    },
    {
     "data": {
      "image/png": "[encoded data removed]",
      "text/plain": [
       "<matplotlib.figure.Figure at 0x2b1e3ac6d68>"
      ]
     },
     "metadata": {},
     "output_type": "display_data"
    }
   ],
   "source": [
    "plt.plot(pf,c);\n",
    "plt.ylabel('C(h) (1/cm)')\n",
    "plt.xlabel('pF')"
   ]
  },
  {
   "cell_type": "markdown",
   "metadata": {},
   "source": [
    "As in previous notebook, we can analyse the sensitivity of some parameters on the differential moisture capacity. "
   ]
  }
 ],
 "metadata": {
  "kernelspec": {
   "display_name": "Python 3",
   "language": "python",
   "name": "python3"
  },
  "language_info": {
   "codemirror_mode": {
    "name": "ipython",
    "version": 3
   },
   "file_extension": ".py",
   "mimetype": "text/x-python",
   "name": "python",
   "nbconvert_exporter": "python",
   "pygments_lexer": "ipython3",
   "version": "3.6.4"
  }
 },
 "nbformat": 4,
 "nbformat_minor": 2
}
