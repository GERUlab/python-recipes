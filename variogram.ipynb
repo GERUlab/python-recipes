{
 "cells": [
  {
   "cell_type": "markdown",
   "metadata": {},
   "source": [
    "# Geostatistics -1\n",
    "author: Sathyanarayan Rao\n",
    "\n",
    "date: 5/18/2018\n",
    "\n",
    "reference: http://people.ku.edu/~gbohling/cpe940/Variograms.pdf\n",
    "\n",
    "## Experimental Variogram\n",
    "\n",
    "$$\\gamma(h) = \\frac{1}{2N(h)} \\sum_{N(h)}(z_i-z_j)^2$$\n",
    "\n",
    "\n",
    "1. Experimental variogram $\\gamma(h)$ is a function describing the spatial dissimilarity of the data, where h is the seperation distance between two samples $z_i$ and  $z_j$. \n",
    "\n",
    "2. Low $\\gamma(h)$ indicates high spatial similarity between $z_i$ and  $z_j$ whereas high $\\gamma(h)$ indicates low spatial similarity between $z_i$ and  $z_j$. \n",
    "\n",
    "3. The separation distance (h) at which $\\gamma(h)$ stops increasing is called range.\n",
    "\n",
    "4. $\\gamma(h)$ at range is called sill"
   ]
  },
  {
   "cell_type": "code",
   "execution_count": 1,
   "metadata": {},
   "outputs": [],
   "source": [
    "import numpy as np\n",
    "import matplotlib.pyplot as plt\n",
    "import matplotlib as mpl\n",
    "from matplotlib  import cm\n",
    "%matplotlib inline"
   ]
  },
  {
   "cell_type": "code",
   "execution_count": 2,
   "metadata": {
    "collapsed": true
   },
   "outputs": [],
   "source": [
    "def experimental_variogram(data,lag,bandwidth):\n",
    "    # Experimental Variogram for a single lag\n",
    "    N = len(data);   # length of data\n",
    "    distance_matrix = np.zeros((N,N))\n",
    "    for i in range(N):\n",
    "        for j in range(N):\n",
    "            distance_matrix[i,j] = (np.sqrt((data[i,0]-data[j,0])**2+(data[i,1]-data[j,1])**2)) # seperation distance in matrix form\n",
    "    sum2   = np.array(np.where(( distance_matrix >= lag-bandwidth )&( distance_matrix <= lag+bandwidth )))\n",
    "    V      = np.mean((data[sum2[0,:],2] - data[sum2[1,:],2] )**2.0)/2\n",
    "    return(V)"
   ]
  },
  {
   "cell_type": "markdown",
   "metadata": {},
   "source": [
    "Lets have some test data to calculate variogram:\n",
    "\n",
    "\n",
    "| sample | X | Y | Z |\n",
    "|---| --- | --- | --- |\n",
    "|1| 0.4 | 0.84 | 1 |\n",
    "|2| 0.48 | 0.48 | 0.25 |\n",
    "|3| 0.56 | 0.78 | 1 |\n",
    "|4| 0.12 | 0.5 | 0.2 |\n",
    "|5| 0.83 | 0.375 | 0.1 |\n",
    "|6| 0.85 | 0.75 | 0.05 |\n",
    "|7| 0.64 | 0.57 | 0.6 |\n",
    "|8| 0.53 | 0.25 | 0 |\n",
    "|9| 0.1 | 0.2 | 0 |\n",
    "|10| 0.8 | 0.1 | 0.05 |\n",
    "|11| 0.125| 0.825 | 0 |\n",
    "|12| 0.825| 0.6 | 0 |\n",
    "|13| 0.7| 0.125 | 0 |\n",
    "|14| 0.6| 0.76 | 1|\n",
    "|15| 0.125| 0.05 | 0 |\n",
    "|16| 0.24 | 0.78 | 0.05 |\n",
    "|17| 0.8 | 0.3 | 0.8 |\n",
    "|18| 0.27 | 0.38 | 0.7 |\n",
    "|19| 0.1 | 0.375 | 0 |\n",
    "|20| 0.75 | 0.625 | 0.2 |\n",
    "|21| 0.73 | 0.38 | 0.8 |\n",
    "|22| 0.6 | 0.375 | 0 |\n",
    "|23| 0.3 | 0.25 | 1 |\n",
    "|24| 0.47 | 0.625 | 1 |\n",
    "|25| 0.125 | 0.6 | 0.8 |\n",
    "|26| 0.49 | 0.1 |0 |\n",
    "|27| 0.72 | 0.3 |0 |\n",
    "|28| 0.75 | 0.9 |0 |\n",
    "|29| 0.9 | 0.9 |0 |\n",
    "|30| 0.3 | 0.03 |0 |\n",
    "|31| 0.25 | 0.74 | 0.9 |\n",
    "|32| 0.33 | 0.51 | 0.8 |\n",
    "|33| 0.87 | 0.7 | 0 |\n",
    "|34| 0.5 | 0.37 | 0 |\n",
    "|35| 0.48 | 0.4 | 0.7 |\n",
    "|36| 0.77 | 0.77 |0.8 |\n",
    "|37| 0.74 | 0.74 |0.8 |\n",
    "|38| 0.8 | 0.42 |0 |\n",
    "|39| 0.62 | 0.2 |0 |\n",
    "|40| 0.26 | 0.825 |0 |\n",
    "\n",
    "\n",
    "\n"
   ]
  },
  {
   "cell_type": "code",
   "execution_count": 3,
   "metadata": {},
   "outputs": [
    {
     "name": "stdout",
     "output_type": "stream",
     "text": [
      "(40, 3)\n"
     ]
    }
   ],
   "source": [
    "# create data vector\n",
    "data      = np.array([]);\n",
    "x = np.array((0.4,0.48,0.56,0.12,0.83,0.85,0.64,0.53,0.1,0.8,0.125,0.825,0.7,0.6,0.125,0.24,0.8,0.27,0.1,0.75,0.73,0.6,0.3,0.47,0.125,0.49,0.72,0.75,0.9,0.3,0.25,0.33,0.87,0.5,0.48,0.77,0.74,0.8,0.62,0.26));\n",
    "y = np.array((0.84,0.48,0.78,0.5,0.375,0.75,0.57,0.25,0.2,0.1,0.825,0.6,0.125,0.76,0.05,0.78,0.3,0.38,0.375,0.625,0.38,0.375,0.25,0.625,0.6,0.1,0.3,0.9,0.9,0.03,0.74,0.51,0.7,0.37,0.4,0.77,0.74,0.42,0.2,0.825));\n",
    "z = np.array((1,0.25,1,0.2,0.1,0.05,0.6,0,0,0.05,0,0,0,1,0,0.05,0.8,0.7,0,0.2,0.8,0,1,1,0.8,0,0,0,0,0,0.9,0.8,0,0,0.7,0.8,0.8,0,0,0));\n",
    "data = np.column_stack((x,y,z));\n",
    "print(np.shape(data))"
   ]
  },
  {
   "cell_type": "code",
   "execution_count": 4,
   "metadata": {},
   "outputs": [
    {
     "name": "stdout",
     "output_type": "stream",
     "text": [
      "[ 0.    0.05  0.1   0.15  0.2   0.25  0.3   0.35  0.4   0.45  0.5   0.55\n",
      "  0.6   0.65  0.7   0.8 ]\n"
     ]
    }
   ],
   "source": [
    "# define bandwidth and other parameters for variogram\n",
    "bw   = (np.max(x)-np.min(x))/10;\n",
    "lags = np.array((0,0.05,0.1,0.15,0.2,0.25,0.3,0.35,0.4,0.45,0.5,0.55,0.6,0.65,0.7,0.8));\n",
    "V    = list();\n",
    "for i in range(len(lags)):\n",
    "    V.append(experimental_variogram(data,lags[i],bw))\n",
    "    \n",
    "print(lags)    "
   ]
  },
  {
   "cell_type": "code",
   "execution_count": 5,
   "metadata": {},
   "outputs": [
    {
     "data": {
      "image/png": "[encoded data removed]",
      "text/plain": [
       "<matplotlib.figure.Figure at 0x1aebd434ba8>"
      ]
     },
     "metadata": {},
     "output_type": "display_data"
    }
   ],
   "source": [
    "mpl.rcParams.update({'font.size': 14})\n",
    "fig,ax  =  plt.subplots(figsize = (14,5),nrows =1,ncols=2)  \n",
    "  \n",
    "ax[0].plot(lags,V) \n",
    "ax[0].set_xlabel('lag (h)')\n",
    "ax[0].set_ylabel('$\\gamma (h)$')\n",
    "ax[0].set_title('semi-variogram')\n",
    "\n",
    "colors = z\n",
    "sc   = ax[1].scatter(x,y,s=20,c=colors, marker = 'o', cmap = cm.jet,edgecolors='none');\n",
    "cbar = plt.colorbar(sc, shrink=0.9, pad = 0.01)\n",
    "ax[1].set_xlabel('x')\n",
    "ax[1].set_ylabel('y')\n",
    "ax[1].set_title('sampled data')\n",
    "cbar.set_label('data (z)')"
   ]
  },
  {
   "cell_type": "code",
   "execution_count": null,
   "metadata": {
    "collapsed": true
   },
   "outputs": [],
   "source": []
  }
 ],
 "metadata": {
  "kernelspec": {
   "display_name": "Python 3",
   "language": "python",
   "name": "python3"
  },
  "language_info": {
   "codemirror_mode": {
    "name": "ipython",
    "version": 3
   },
   "file_extension": ".py",
   "mimetype": "text/x-python",
   "name": "python",
   "nbconvert_exporter": "python",
   "pygments_lexer": "ipython3",
   "version": "3.6.3"
  }
 },
 "nbformat": 4,
 "nbformat_minor": 2
}
