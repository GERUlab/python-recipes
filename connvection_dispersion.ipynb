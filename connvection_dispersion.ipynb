{
 "cells": [
  {
   "cell_type": "markdown",
   "metadata": {},
   "source": [
    "# Analytical solutions of the solute transport convection dispersion equation\n",
    "\n",
    "## M. Vanclooster 28/4/18\n",
    "\n",
    "In this notebook, we present some analytical solutions of the one dimensional convection dispersion equation.\n",
    "\n",
    "\\begin{equation}\n",
    "R\\frac{\\partial C^r_l}{\\partial t}+v\\frac{\\partial C^r_l}{\\partial z}- D \\frac{\\partial^2 C^r_l}{\\partial z^2}=0\n",
    "\\end{equation}\n",
    "\n",
    "where $C^r_l$, the liquid phase solute resident concentration $(M L^{-3})$; v, the pore water velocity $(L T^{-1})$; D, the apparent hydrodynamic dispersion coefficient $(L^2 T^{-1})$; R, the solute retardation factor $(-)$; and t,z the space ($L$) and time ($T$), coordinate. When considering linear equilibrium solute adsorption between the liquid and the solid phase, then $R=1+\\rho k_d / \\theta$, with $\\rho$ $(M L^{-3})$, the apparent soil bulk density; $k_d$ $(L^3 M^{-1})$, the equilibrium liquid solid distribution coefficient; and $\\theta$ the soil volumetric moisture content. \n",
    "\n",
    "The convection dispersion equation can also be expressed in terms of solute flux concentrations: \n",
    "\n",
    "\\begin{equation}\n",
    "R\\frac{\\partial C^f}{\\partial t}+v\\frac{\\partial C^f}{\\partial z}- D \\frac{\\partial^2 C^f}{\\partial z^2}=0\n",
    "\\end{equation}\n",
    "\n",
    "with \n",
    "\n",
    "\\begin{equation}\n",
    "C^f=C^r_l-\\frac{D}{v}\\frac{\\partial C^r_l}{\\partial z}\n",
    "\\end{equation}\n",
    "\n",
    "In this notebook we consider first and third type inlet boundary conditions. The first type formulates as follows:\n",
    "\n",
    "\\begin{equation}\n",
    "C^r(0,t)=C_0(t)\n",
    "\\end{equation}\n",
    "\n",
    "while the third type boundary conditions is as follows: \n",
    "\n",
    "\\begin{equation}\n",
    "vC^r_l(0;t)-D\\frac{\\partial C^r_l(0;t)}{\\partial z}=v C_0(t)\n",
    "\\end{equation}\n",
    "\n",
    "We consider the Dirac and Heaviside function for the $C_0(t)$ \n",
    "\n",
    "We consider the outlet boundary condition for a semi-infinite system\n",
    "\n",
    "\\begin{equation}\n",
    "\\frac{\\partial C^r_l(\\infty , t)}{\\partial z} = 0\n",
    "\\end{equation}\n",
    "\n",
    "that we simplify towards a Danckwerts boundary condition when we evaluate a finite system of length $L$: \n",
    "\n",
    "\\begin{equation}\n",
    "\\frac{\\partial C^r_l(L, t)}{\\partial z} = 0\n",
    "\\end{equation}\n",
    "\n",
    "In the solutions below, we consider a solute free soil columns as initial value, or: \n",
    "\n",
    "\\begin{equation}\n",
    "C^r_l(z, t)=0\n",
    "\\end{equation}\n",
    "\n",
    "For a homogeneous soil subject to a Dirac pulse the analytical solution of the convection dispersion equation is\n",
    "\n",
    "\\begin{equation}\n",
    "    C^k=\\frac{m_B}{v}\\Gamma^k\n",
    "\\end{equation}\n",
    "\n",
    "with $k=f$ or $k=r$;  where $m_B$, the total mass added by unit area of soil $(M L^{-2})$; and  $\\Gamma$ is the time dynamic kernel function $(T^{\n",
    "-1})$, whose integral equals 1. In case of $\\Gamma^f$, the kernel corresponds to the solute travel time probability density function. In case of solute adsorption, the kernel yields: \n",
    "\n",
    "\\begin{equation}\n",
    "    \\Gamma_a(z,t)=\\frac{1}{R}\\Gamma_m\\left(z,\\frac{t}{R}\\right)\n",
    "\\end{equation}\n",
    "\n",
    "where $\\Gamma_a$ the kernel for sorbed, and $\\Gamma_m$ the kernel for the mobile species.\n",
    "\n",
    "For a boundary value problem with Dirac (pulse) and Heaviside (step) input functions, the kernels are illustrated below. "
   ]
  },
  {
   "cell_type": "markdown",
   "metadata": {},
   "source": [
    "### Boundary value problem,  first type boundary condition in $C^r$, Dirac (pulse) input, solution for $C^r$.\n",
    "\n",
    "In this case $C^r(0,t)=\\delta (t)$;  the kernel for resident solutions yields: \n",
    "\n",
    "\\begin{equation}\n",
    "\\Gamma^r=\\frac{z}{2}\\sqrt{\\frac{R}{\\pi D t^3}}exp\\left(-\\frac{(zR-vt)^2}{4DRt} \\right)\n",
    "\\end{equation}\n",
    "\n",
    "Let's evaluate this function and analyse impacts of the parameters D,R,v ont its solution"
   ]
  },
  {
   "cell_type": "code",
   "execution_count": 150,
   "metadata": {},
   "outputs": [],
   "source": [
    "# Miscellaneous operating system interfaces\n",
    "import os\n",
    "# Python Numerical computating library\n",
    "import numpy as np\n",
    "# Python Scientifical computing library\n",
    "import scipy as sc\n",
    "# Python plotting library\n",
    "from matplotlib import pyplot as plt\n",
    "# Allowing plot inside the notebook\n",
    "%matplotlib inline"
   ]
  },
  {
   "cell_type": "markdown",
   "metadata": {},
   "source": [
    "We consider a soil column of 100 cm length,  we add 1 g at the soil surface. Since we consider a first type boundary condition, we consider that the 1 g of solute is immediately mixed with the soil surface at the soil solution. We consider that the solute is subsequently leached with a flow that induces a soil pore velocity of 1 cm / day. We consider a hydrodynamic dispersivity of 10 cm^2/day. We evaluate the breakthrough curve at 1 m depth as a function of time. "
   ]
  },
  {
   "cell_type": "code",
   "execution_count": 151,
   "metadata": {},
   "outputs": [],
   "source": [
    "#z=np.arange(0,100,1) # Distance in cm\n",
    "z=100 # Evaluation distance in cm\n",
    "t=np.arange(0.1,300,1) # Time in days\n",
    "\n",
    "v = 1 #Pore water velocity (cm/day)\n",
    "D = 10 # Hydrodynamic dispersivity (cm^2/day)\n",
    "R = 1 # Retardation factor\n",
    "mB = 1 # Added mass (g/cm2)"
   ]
  },
  {
   "cell_type": "code",
   "execution_count": 152,
   "metadata": {},
   "outputs": [],
   "source": [
    "t1=z/2\n",
    "t2=(R/(np.pi*D*t**3))**(0.5)\n",
    "t3=(z*R-v*t)**2/(4*D*R*t)\n",
    "t4=np.exp(-t3)\n",
    "gamma_r=t1*t2*t4\n",
    "C=mB/v*gamma_r"
   ]
  },
  {
   "cell_type": "code",
   "execution_count": 153,
   "metadata": {},
   "outputs": [
    {
     "data": {
      "text/plain": [
       "Text(0,0.5,'C (g/cm^3)')"
      ]
     },
     "execution_count": 153,
     "metadata": {},
     "output_type": "execute_result"
    },
    {
     "data": {
      "image/png": "[encoded data removed]",
      "text/plain": [
       "<matplotlib.figure.Figure at 0x170d0db26a0>"
      ]
     },
     "metadata": {},
     "output_type": "display_data"
    }
   ],
   "source": [
    "plt.plot(C)\n",
    "plt.xlabel('Time (days)')\n",
    "plt.ylabel('C (g/cm^3)')"
   ]
  },
  {
   "cell_type": "markdown",
   "metadata": {},
   "source": [
    "With a solute pore water velocity of 1 cm/day, we expect that the peak of the solute applied at the soil surface at 1 m depth would appear after 100 days. We see that is nearly the case, but not exactly as the breakthrough curve (BTC) is not perfectly symmetric. This is a result of the boundary condition that is used, and the fact that we describe solute resident concentrations. The asymmetry of the BTC will be affected by the value of D."
   ]
  },
  {
   "cell_type": "markdown",
   "metadata": {},
   "source": [
    "Let's analyse the sensitivity of the apparent dispersion on this BTC. We evaluate the solution for 3 different values of D (0.1, 10 and 100 cm2/day)."
   ]
  },
  {
   "cell_type": "code",
   "execution_count": 154,
   "metadata": {},
   "outputs": [
    {
     "data": {
      "text/plain": [
       "Text(0,0.5,'C (g/cm^3)')"
      ]
     },
     "execution_count": 154,
     "metadata": {},
     "output_type": "execute_result"
    },
    {
     "data": {
      "image/png": "[encoded data removed]",
      "text/plain": [
       "<matplotlib.figure.Figure at 0x170d0f6d588>"
      ]
     },
     "metadata": {},
     "output_type": "display_data"
    }
   ],
   "source": [
    "z=100 # Evaluation distance in cm\n",
    "t=np.arange(0.1,300,1) # Time in days\n",
    "\n",
    "v = 1 #Pore water velocity (cm/day)\n",
    "D1 = .1 # Hydrodynamic dispersivity (cm^2/day)\n",
    "D2 = 10\n",
    "D3 = 100\n",
    "R = 1 # Retardation factor\n",
    "mB = 1 # Added mass (g/cm2)\n",
    "\n",
    "t11=z/2\n",
    "t21=(R/(np.pi*D1*t**3))**(0.5)\n",
    "t31=(z*R-v*t)**2/(4*D1*R*t)\n",
    "t41=np.exp(-t31)\n",
    "gamma_r1=t11*t21*t41\n",
    "C1=mB/v*gamma_r1\n",
    "\n",
    "t12=z/2\n",
    "t22=(R/(np.pi*D2*t**3))**(0.5)\n",
    "t32=(z*R-v*t)**2/(4*D2*R*t)\n",
    "t42=np.exp(-t32)\n",
    "gamma_r2=t12*t22*t42\n",
    "C2=mB/v*gamma_r2\n",
    "\n",
    "t13=z/2\n",
    "t23=(R/(np.pi*D3*t**3))**(0.5)\n",
    "t33=(z*R-v*t)**2/(4*D3*R*t)\n",
    "t43=np.exp(-t33)\n",
    "gamma_r3=t13*t23*t43\n",
    "C3=mB/v*gamma_r3\n",
    "\n",
    "plt.plot(t,C1,t,C2,t,C3)\n",
    "plt.xlabel('Time (days)')\n",
    "plt.ylabel('C (g/cm^3)')"
   ]
  },
  {
   "cell_type": "markdown",
   "metadata": {},
   "source": [
    "We see that the dispersion of the solute concentration and asymmetry increases when the apparent dispersion increases. "
   ]
  },
  {
   "cell_type": "markdown",
   "metadata": {},
   "source": [
    "Let's analyse the sensitivity of the pore water velocity  on the BTC. We consider a constant value for the apparent dispersion"
   ]
  },
  {
   "cell_type": "code",
   "execution_count": 155,
   "metadata": {},
   "outputs": [
    {
     "data": {
      "text/plain": [
       "Text(0,0.5,'C (g/cm^3)')"
      ]
     },
     "execution_count": 155,
     "metadata": {},
     "output_type": "execute_result"
    },
    {
     "data": {
      "image/png": "[encoded data removed]",
      "text/plain": [
       "<matplotlib.figure.Figure at 0x170d0faa860>"
      ]
     },
     "metadata": {},
     "output_type": "display_data"
    }
   ],
   "source": [
    "z=100 # Evaluation distance in cm\n",
    "t=np.arange(0.1,300,1) # Time in days\n",
    "\n",
    "v1 = 0.5 #Pore water velocity (cm/day)\n",
    "v2 = 1. \n",
    "v3 = 2.\n",
    "D = 1\n",
    "R = 1 # Retardation factor\n",
    "mB = 1 # Added mass (g/cm2)\n",
    "\n",
    "t11=z/2\n",
    "t21=(R/(np.pi*D*t**3))**(0.5)\n",
    "t31=(z*R-v1*t)**2/(4*D*R*t)\n",
    "t41=np.exp(-t31)\n",
    "gamma_r1=t11*t21*t41\n",
    "C1=mB/v*gamma_r1\n",
    "\n",
    "t12=z/2\n",
    "t22=(R/(np.pi*D*t**3))**(0.5)\n",
    "t32=(z*R-v2*t)**2/(4*D*R*t)\n",
    "t42=np.exp(-t32)\n",
    "gamma_r2=t12*t22*t42\n",
    "C2=mB/v*gamma_r2\n",
    "\n",
    "t13=z/2\n",
    "t23=(R/(np.pi*D*t**3))**(0.5)\n",
    "t33=(z*R-v3*t)**2/(4*D*R*t)\n",
    "t43=np.exp(-t33)\n",
    "gamma_r3=t13*t23*t43\n",
    "C3=mB/v*gamma_r3\n",
    "\n",
    "plt.plot(t,C1,t,C2,t,C3)\n",
    "plt.xlabel('Time (days)')\n",
    "plt.ylabel('C (g/cm^3)')"
   ]
  },
  {
   "cell_type": "markdown",
   "metadata": {},
   "source": [
    "Obviously, an increased pore water velocity pushes the solute faster through the soil profile. "
   ]
  },
  {
   "cell_type": "markdown",
   "metadata": {},
   "source": [
    "Finally, let's evualate the impact of adsorption on the BTC: "
   ]
  },
  {
   "cell_type": "code",
   "execution_count": 156,
   "metadata": {},
   "outputs": [
    {
     "data": {
      "text/plain": [
       "Text(0,0.5,'C (g/cm^3)')"
      ]
     },
     "execution_count": 156,
     "metadata": {},
     "output_type": "execute_result"
    },
    {
     "data": {
      "image/png": "[encoded data removed]",
      "text/plain": [
       "<matplotlib.figure.Figure at 0x170d0fe3898>"
      ]
     },
     "metadata": {},
     "output_type": "display_data"
    }
   ],
   "source": [
    "z=100 # Evaluation distance in cm\n",
    "t=np.arange(0.1,300,1) # Time in days\n",
    "\n",
    "v = 1 #Pore water velocity (cm/day)\n",
    "D = 1\n",
    "R1 = 1 # Retardation factor\n",
    "R2 = 2\n",
    "R3 = 10\n",
    "mB = 1 # Added mass (g/cm2)\n",
    "\n",
    "t11=z/2\n",
    "t21=(R1/(np.pi*D*t**3))**(0.5)\n",
    "t31=(z*R1-v*t)**2/(4*D*R1*t)\n",
    "t41=np.exp(-t31)\n",
    "gamma_r1=t11*t21*t41\n",
    "C1=mB/v*gamma_r1\n",
    "\n",
    "t12=z/2\n",
    "t22=(R2/(np.pi*D*t**3))**(0.5)\n",
    "t32=(z*R2-v*t)**2/(4*D*R2*t)\n",
    "t42=np.exp(-t32)\n",
    "gamma_r2=t12*t22*t42\n",
    "C2=mB/v*gamma_r2\n",
    "\n",
    "t13=z/2\n",
    "t23=(R3/(np.pi*D*t**3))**(0.5)\n",
    "t33=(z*R3-v*t)**2/(4*D*R3*t)\n",
    "t43=np.exp(-t33)\n",
    "gamma_r3=t13*t23*t43\n",
    "C3=mB/v*gamma_r3\n",
    "\n",
    "plt.plot(t,C1,t,C2,t,C3)\n",
    "plt.xlabel('Time (days)')\n",
    "plt.ylabel('C (g/cm^3)')"
   ]
  },
  {
   "cell_type": "markdown",
   "metadata": {},
   "source": [
    "We see that the retardation factor has an impact on the apparent solute velocity."
   ]
  },
  {
   "cell_type": "markdown",
   "metadata": {},
   "source": [
    "### Boundary value problem,  third  type boundary condition in $C^r$, Dirac (pulse) input, solution for $C^f$\n",
    "\n",
    "A third type boundary condition in $C^r$ corresponds to a first type boundary condition in $C^f$. Hence $C^f(0,t)=\\delta(t)$\n",
    "\n",
    "The kernel yielding the solution for the flux type concentration yields: \n",
    "\n",
    "\\begin{equation}\n",
    "\\Gamma^f=\\frac{z}{2}\\sqrt{\\frac{R}{\\pi D t^3}}exp\\left(-\\frac{(zR-vt)^2}{4DRt} \\right)\n",
    "\\end{equation}\n",
    "\n",
    "This is exactly the same kernel as for the resident concentration subjected to a first type boundary condition in $C^r$. The same analysis as in previous section can be made. Yet the concentrations that are calculated now are flux type concentrations. \n",
    "\n",
    "This solution could be used to interpret the BTC as measured in the outflow of column tracer experiments. \n"
   ]
  },
  {
   "cell_type": "markdown",
   "metadata": {},
   "source": [
    "## Boundary value problem, third type boundary condition in $C^r$, Dirac (pulse) input, solution for $C^r$\n",
    "\n",
    "As in previous solution, the third type boundary condition in $C^r$ corresponds to $C^f(0,t)=\\delta(t)$. The kernel in this case yields: \n",
    "\n",
    "\\begin{equation}\n",
    "\\Gamma^r=\\frac{v}{\\sqrt{\\pi D R t}} exp \\left(- \\frac{(Rz-vt)^2}{4 D R t} \\right)-\\frac{v^2}{2 D R} exp \\left(\\frac{v z}{D} \\right) erfc\\left(\\frac{Rz+vt}{\\sqrt{4 D R t}}\\right)\n",
    "\\end{equation}\n",
    "\n",
    "In this solution, the complementary error function, $erfc(x) = 1 - erf(x)$ appears. Also the product between exponential function and the complementary error function appears. This product is often instable, and is therefore approximated by the $exf$ function (see van Genuchten and Alves, 1982).\n",
    "\n",
    "This solution could be used if the time cours of resident concentrations are measured (e.g. by means of soil sampling, TDR monitoring, etc...)."
   ]
  },
  {
   "cell_type": "code",
   "execution_count": 157,
   "metadata": {},
   "outputs": [],
   "source": [
    "def exf(a,b): #exf(a,b)=exp(a)erfc(b), with erfc(b)=1-erf(b)\n",
    "    if (b <= 3):\n",
    "        tau=1/(1+0.3275911*b)\n",
    "        a1=0.2548296\n",
    "        a2=-0.2844967\n",
    "        a3=1.421414\n",
    "        a4=-1.453152\n",
    "        a5=1.061405\n",
    "        exf=np.exp(a-b**2)*(a1*tau+a2*tau**2+a3*tau**3+a4*tau**4+a5*tau**5)     \n",
    "        if (b < 0): exf=2*np.exp(a)-np.exp(a+b**2)*(a1*tau+a2*tau**2+a3*tau**3+a4*tau**4+a5*tau**5) \n",
    "    else:\n",
    "        exf=(1/((np.pi)*0.5))*np.exp(a-b**2)/(b+0.5/(b+1./(b+1.5/(b+2./(b+2.5/(b+1.))))))\n",
    "    return exf"
   ]
  },
  {
   "cell_type": "code",
   "execution_count": 158,
   "metadata": {},
   "outputs": [],
   "source": [
    "#z=np.arange(0,100,1) # Distance in cm\n",
    "z=100 # Evaluation distance in cm\n",
    "t=np.arange(0.1,300,1) # Time in days\n",
    "\n",
    "v = 1 #Pore water velocity (cm/day)\n",
    "D = 10 # Hydrodynamic dispersivity (cm^2/day)\n",
    "R = 1 # Retardation factor\n",
    "mB = 1 # Added mass (g/cm2)"
   ]
  },
  {
   "cell_type": "code",
   "execution_count": 159,
   "metadata": {},
   "outputs": [],
   "source": [
    "t1=v/((np.pi*D*R*t)**(0.5))\n",
    "t2=(z*R-v*t)**2/(4*D*R*t)\n",
    "t3=np.exp(-t2)\n",
    "t4=v**2/(2*D*R)\n",
    "t5=(v*z/D)\n",
    "t6=(R*z+v*t)/((4*D*R*t)**(0.5))"
   ]
  },
  {
   "cell_type": "code",
   "execution_count": 160,
   "metadata": {},
   "outputs": [],
   "source": [
    "t1=v/((np.pi*D*R*t)**(0.5))\n",
    "t2=(z*R-v*t)**2/(4*D*R*t)\n",
    "t3=np.exp(-t2)\n",
    "t4=v**2/(2*D*R)\n",
    "t5=(v*z/D)\n",
    "t6=(R*z+v*t)/((4*D*R*t)**(0.5))\n",
    "t7=len(t6)*[0]\n",
    "for i in range(len(t6)):\n",
    "    t7[i]=exf(t5,t6[i])\n",
    "gamma_r=t1*t3-t4*np.asarray(t7)\n",
    "C=mB/v*gamma_r"
   ]
  },
  {
   "cell_type": "code",
   "execution_count": 161,
   "metadata": {},
   "outputs": [
    {
     "data": {
      "text/plain": [
       "Text(0,0.5,'C (g/cm^3)')"
      ]
     },
     "execution_count": 161,
     "metadata": {},
     "output_type": "execute_result"
    },
    {
     "data": {
      "image/png": "[encoded data removed]",
      "text/plain": [
       "<matplotlib.figure.Figure at 0x170d0f6d0f0>"
      ]
     },
     "metadata": {},
     "output_type": "display_data"
    }
   ],
   "source": [
    "plt.plot(C)\n",
    "plt.xlabel('Time (days)')\n",
    "plt.ylabel('C (g/cm^3)')"
   ]
  },
  {
   "cell_type": "markdown",
   "metadata": {},
   "source": [
    "As with the previous solutions, we can evaluate the sensitivity of the solute transport parameters, $v,D,R$ on the behaviour of the breakthrough curve"
   ]
  },
  {
   "cell_type": "markdown",
   "metadata": {},
   "source": [
    "### Boundary value problem, third type boundary condition in $C^r$, Heaviside (step) function, solution for $C^f$"
   ]
  },
  {
   "cell_type": "markdown",
   "metadata": {},
   "source": [
    "In this case the kernel yields\n",
    "\\begin{equation}\n",
    "\\Gamma^f=\\frac{1}{2} erfc\\left(\\frac{R z - v t }{\\sqrt{4 R D t }}\\right)+\\frac{1}{2} exp\\left(\\frac{v z}{D}\\right) erfc\\left(\\frac{R z + v t}{\\sqrt{4 R D t}}\\right)\n",
    "\\end{equation}\n"
   ]
  },
  {
   "cell_type": "code",
   "execution_count": 162,
   "metadata": {},
   "outputs": [],
   "source": [
    "#z=np.arange(0,100,1) # Distance in cm\n",
    "z=100 # Evaluation distance in cm\n",
    "t=np.arange(0.1,300,1) # Time in days\n",
    "\n",
    "v = 1 #Pore water velocity (cm/day)\n",
    "D = 10 # Hydrodynamic dispersivity (cm^2/day)\n",
    "R = 1 # Retardation factor\n",
    "mB = 1 # Added mass (g/cm2)"
   ]
  },
  {
   "cell_type": "code",
   "execution_count": 163,
   "metadata": {},
   "outputs": [],
   "source": [
    "from scipy import special\n",
    "t1=(z*R-v*t)/((4*D*R*t)**(0.5))\n",
    "t2=sc.special.erfc(t1)\n",
    "t3=(v*z/D)\n",
    "t4=(R*z+v*t)/((4*D*R*t)**(0.5))\n",
    "t5=len(t4)*[0]\n",
    "for i in range(len(t4)):\n",
    "    t5[i]=exf(t3,t4[i])\n",
    "gamma_f=0.5*t2+0.5*np.asarray(t5)\n",
    "C=mB/v*gamma_f"
   ]
  },
  {
   "cell_type": "code",
   "execution_count": 164,
   "metadata": {},
   "outputs": [
    {
     "data": {
      "text/plain": [
       "Text(0,0.5,'C (g/cm^3)')"
      ]
     },
     "execution_count": 164,
     "metadata": {},
     "output_type": "execute_result"
    },
    {
     "data": {
      "image/png": "[encoded data removed]",
      "text/plain": [
       "<matplotlib.figure.Figure at 0x170d10d4860>"
      ]
     },
     "metadata": {},
     "output_type": "display_data"
    }
   ],
   "source": [
    "plt.plot(C)\n",
    "plt.xlabel('Time (days)')\n",
    "plt.ylabel('C (g/cm^3)')"
   ]
  },
  {
   "cell_type": "markdown",
   "metadata": {},
   "source": [
    "### Boundary value problem, third type boundary condition in $C^r$, Heaviside (step) function, solution for $C^r$"
   ]
  },
  {
   "cell_type": "markdown",
   "metadata": {},
   "source": [
    "In this case the kernel yields: \n",
    "\n",
    "\\begin{equation}\n",
    "    \\Gamma^r=\\frac{1}{2} erfc\\left(\\frac{Rz - vt}{\\sqrt{4 D R t}}\\right)\n",
    "    +\\sqrt{\\frac{v^2 t}{\\pi R D}} exp\\left(-\\frac{(R z - vt)^2}{4 D t}\\right)-\\frac{1}{2}\\left(1+\\frac{v z }{D} + \\frac{v^2 t }{D R}\\right) exp\\left(\\frac{v z}{D} \\right) erfc\\left(\\frac{R z + vt}{\\sqrt{4 D R t}} \\right)\n",
    "\\end{equation}"
   ]
  },
  {
   "cell_type": "code",
   "execution_count": 165,
   "metadata": {},
   "outputs": [],
   "source": [
    "#z=np.arange(0,100,1) # Distance in cm\n",
    "z=100 # Evaluation distance in cm\n",
    "t=np.arange(0.1,300,1) # Time in days\n",
    "\n",
    "v = 1 #Pore water velocity (cm/day)\n",
    "D = 10 # Hydrodynamic dispersivity (cm^2/day)\n",
    "R = 1 # Retardation factor\n",
    "mB = 1 # Added mass (g/cm2)"
   ]
  },
  {
   "cell_type": "code",
   "execution_count": 166,
   "metadata": {},
   "outputs": [],
   "source": [
    "from scipy import special\n",
    "t1=(z*R-v*t)/((4*D*R*t)**(0.5))\n",
    "t2=sc.special.erfc(t1)\n",
    "t3=((v**2*t)/(np.pi*R*D))**(0.5)\n",
    "t4=(z*R-v*t)**2/(4*D*t)\n",
    "t5=np.exp(-t4)\n",
    "t6=(1+(v*z/D)+(v**2*t/(D*R)))\n",
    "t7=(v*z/D)\n",
    "t8=(z*R+v*t)/((4*D*R*t)**(0.5))\n",
    "t9=len(t8)*[0]\n",
    "for i in range(len(t8)):\n",
    "    t9[i]=exf(t7,t8[i])\n",
    "gamma_f=0.5*t2+t3*t5-0.5*t6*np.asarray(t9)\n",
    "C=mB/v*gamma_f"
   ]
  },
  {
   "cell_type": "code",
   "execution_count": 167,
   "metadata": {},
   "outputs": [
    {
     "data": {
      "text/plain": [
       "Text(0,0.5,'C (g/cm^3)')"
      ]
     },
     "execution_count": 167,
     "metadata": {},
     "output_type": "execute_result"
    },
    {
     "data": {
      "image/png": "[encoded data removed]",
      "text/plain": [
       "<matplotlib.figure.Figure at 0x170d11082b0>"
      ]
     },
     "metadata": {},
     "output_type": "display_data"
    }
   ],
   "source": [
    "plt.plot(C)\n",
    "plt.xlabel('Time (days)')\n",
    "plt.ylabel('C (g/cm^3)')"
   ]
  }
 ],
 "metadata": {
  "kernelspec": {
   "display_name": "Python 3",
   "language": "python",
   "name": "python3"
  },
  "language_info": {
   "codemirror_mode": {
    "name": "ipython",
    "version": 3
   },
   "file_extension": ".py",
   "mimetype": "text/x-python",
   "name": "python",
   "nbconvert_exporter": "python",
   "pygments_lexer": "ipython3",
   "version": "3.6.4"
  }
 },
 "nbformat": 4,
 "nbformat_minor": 2
}
