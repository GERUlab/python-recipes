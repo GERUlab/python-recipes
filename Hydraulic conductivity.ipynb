{
 "cells": [
  {
   "cell_type": "markdown",
   "metadata": {},
   "source": [
    "# Hydraulic conductivity and diffusivity modelling  \n",
    "## M. Vanclooster (UCL/AGRO/ELI:20/02/2017)\n",
    "\n",
    "In this $\\textit{Jupyter notebook}$,we develop an approach for modelling the unsaturated zone hydraulic conductivity and the hydraulic diffusivity. Like in previous notebooks, we do some symbolic calculations with $\\textit{Sympy}$ . "
   ]
  },
  {
   "cell_type": "markdown",
   "metadata": {},
   "source": [
    "Let's first redefine the libraries that we need in this notebook. "
   ]
  },
  {
   "cell_type": "code",
   "execution_count": 81,
   "metadata": {
    "collapsed": true
   },
   "outputs": [],
   "source": [
    "# The libraries below are the same as in the previous notebooks \n",
    "import os\n",
    "import pandas as pd\n",
    "import numpy as np\n",
    "import scipy as sc\n",
    "from matplotlib import pyplot as plt\n",
    "%matplotlib inline\n",
    "from sympy import *\n",
    "\n",
    "# Getting current directory\n",
    "# cdir = 'C:/Users/vanclooster/Hubic/Documents/2018/Documents2018/cours/Hydrodynamiques des sols/Support Python'\n"
   ]
  },
  {
   "cell_type": "markdown",
   "metadata": {},
   "source": [
    "Let's define also the symbolic variables with which we are going to work"
   ]
  },
  {
   "cell_type": "code",
   "execution_count": 82,
   "metadata": {
    "collapsed": true
   },
   "outputs": [],
   "source": [
    "h = Symbol('h')\n",
    "th = Symbol('th')\n",
    "alfa = Symbol('alfa')\n",
    "ths = Symbol('ths')\n",
    "thr = Symbol('thr')\n",
    "n = Symbol('n')\n",
    "m = Symbol('m')\n",
    "ks = Symbol('ks')\n",
    "lamb = Symbol('lamb')\n",
    "se = Symbol('se')"
   ]
  },
  {
   "cell_type": "markdown",
   "metadata": {},
   "source": [
    "We introduce the function for describing the unsaturated hydraulic conductivity. We use here the closed form expression proposed by (Cite Mualem1976), and succesfully combined with the van Genuchten model into a closed form expression (cite Vangenuchten80): "
   ]
  },
  {
   "cell_type": "markdown",
   "metadata": {},
   "source": [
    "\\begin{equation}\n",
    "    k(Se)=ks Se^{\\lambda}\\left( 1-\\left( 1-Se^{1/m}\\right)\\right)^2 \n",
    "\\end{equation}"
   ]
  },
  {
   "cell_type": "markdown",
   "metadata": {},
   "source": [
    "where ks, is the saturated hydraulic conductivity (m/s), and $\\lambda$, the tortuosity factor (very often, this factor is set to 2). In this equation, we introduce also the normalised volumetrtic water content, or the degree of saturation as:"
   ]
  },
  {
   "cell_type": "markdown",
   "metadata": {},
   "source": [
    "\\begin{equation}\n",
    "Se=\\frac{\\theta-\\theta_r}{\\theta_s-\\theta_r}\n",
    "\\end{equation}"
   ]
  },
  {
   "cell_type": "markdown",
   "metadata": {},
   "source": [
    "As in previous notebook, we can model the moisture retention relationship withe the van Genuchten model: "
   ]
  },
  {
   "cell_type": "markdown",
   "metadata": {},
   "source": [
    "\\begin{equation}\n",
    "    Se = \\frac{1}{\\left(1+(\\alpha h)^n\\right)^{1-1/n}}\n",
    "\\end{equation}"
   ]
  },
  {
   "cell_type": "markdown",
   "metadata": {},
   "source": [
    "We evaluate the hydraulic conductivity model."
   ]
  },
  {
   "cell_type": "code",
   "execution_count": 83,
   "metadata": {},
   "outputs": [],
   "source": [
    "# Independent variable (pF and h (cm))\n",
    "pf = np.arange(0, 7, 0.1)\n",
    "h_num = 10**pf #cm!\n",
    "\n",
    "# Hydraulic parameters\n",
    "thr_num = 0.01\n",
    "ths_num = 0.4\n",
    "alfa_num = 0.01\n",
    "n_num = 1.1\n",
    "m_num = 1-1/n_num\n",
    "lambda_num=0.5\n",
    "ks_num=12.3 #In this case in (cm/day)\n",
    "\n",
    "se_num = 1/(1+(alfa_num*h_num)**n_num)**(1-1/n_num)\n",
    "th_num=se_num*(ths_num-thr_num)+thr_num\n",
    "k_num=ks_num*se_num**(lambda_num)*( 1-( 1-se_num**(1/m_num)))**2 \n"
   ]
  },
  {
   "cell_type": "markdown",
   "metadata": {},
   "source": [
    "Which we will evaluate graphically in terms of Se"
   ]
  },
  {
   "cell_type": "code",
   "execution_count": 84,
   "metadata": {},
   "outputs": [
    {
     "data": {
      "text/plain": [
       "<matplotlib.text.Text at 0xdd0b1d0>"
      ]
     },
     "execution_count": 84,
     "metadata": {},
     "output_type": "execute_result"
    },
    {
     "data": {
      "image/png": "[encoded data removed]",
      "text/plain": [
       "<matplotlib.figure.Figure at 0xdd0dba8>"
      ]
     },
     "metadata": {},
     "output_type": "display_data"
    }
   ],
   "source": [
    "plt.plot(se_num,k_num);\n",
    "plt.xlabel('Saturation degree (-)')\n",
    "plt.ylabel('Hydraulic conductivity (cm/day)')"
   ]
  },
  {
   "cell_type": "markdown",
   "metadata": {},
   "source": [
    "or in terms of h"
   ]
  },
  {
   "cell_type": "code",
   "execution_count": 85,
   "metadata": {},
   "outputs": [
    {
     "data": {
      "image/png": "[encoded data removed]",
      "text/plain": [
       "<matplotlib.figure.Figure at 0xdd2ca90>"
      ]
     },
     "metadata": {},
     "output_type": "display_data"
    }
   ],
   "source": [
    "plt.plot(h_num,k_num);\n",
    "plt.xlabel('Pressure head(cm)')\n",
    "plt.ylabel('Hydraulic conductivity (cm/day)')\n",
    "plt.ticklabel_format(axis='x', style='sci', scilimits=(0,0))"
   ]
  },
  {
   "cell_type": "markdown",
   "metadata": {},
   "source": [
    "or in terms of pF"
   ]
  },
  {
   "cell_type": "code",
   "execution_count": 86,
   "metadata": {},
   "outputs": [
    {
     "data": {
      "text/plain": [
       "<matplotlib.text.Text at 0xdd0d978>"
      ]
     },
     "execution_count": 86,
     "metadata": {},
     "output_type": "execute_result"
    },
    {
     "data": {
      "image/png": "[encoded data removed]",
      "text/plain": [
       "<matplotlib.figure.Figure at 0xddaacf8>"
      ]
     },
     "metadata": {},
     "output_type": "display_data"
    }
   ],
   "source": [
    "plt.plot(pf,k_num);\n",
    "plt.xlabel('pF(log(cm)')\n",
    "plt.ylabel('Hydraulic conductivity (cm/day)')"
   ]
  },
  {
   "cell_type": "markdown",
   "metadata": {},
   "source": [
    "Remark, that this is a numerical evaluation of the conductivity model, as the closed form expression is given in terms of $Se$. We could also calculate first for each $\\theta$ a corresponding $h$, following the inverse water retention relationship. This inverse relationship can easily be found using the $solve$ algorithm in $Sympy$ as illustrated below: "
   ]
  },
  {
   "cell_type": "code",
   "execution_count": 87,
   "metadata": {},
   "outputs": [
    {
     "data": {
      "text/plain": [
       "[(-1 + ((th - thr)/(thr - ths))**(-n/(n - 1)))**(1/n)/alfa]"
      ]
     },
     "execution_count": 87,
     "metadata": {},
     "output_type": "execute_result"
    }
   ],
   "source": [
    "solve(th - thr+(ths-thr)/((1+(alfa*h)**n)**(1-1/n)),h)"
   ]
  },
  {
   "cell_type": "markdown",
   "metadata": {},
   "source": [
    "Hence, we obtain our soil moisture retention curve in the $h(\\theta)$ format as follows"
   ]
  },
  {
   "cell_type": "markdown",
   "metadata": {},
   "source": [
    "\\begin{equation}\n",
    "    h(\\theta)=\\frac{(-1 + ((\\theta - \\theta_r)/(\\theta_r - \\theta_s))^{-n/(n - 1)})^{1/n}}{\\alpha}\n",
    "\\end{equation}"
   ]
  },
  {
   "cell_type": "markdown",
   "metadata": {},
   "source": [
    "Subsequently, we calculate for each water content K and plot it in terms of the calculated h. This would of course yield exactly the same results."
   ]
  },
  {
   "cell_type": "markdown",
   "metadata": {},
   "source": [
    "Finally, we introduce the differential moisture capacity. This is by definition $D=K/C$. In previous notebook, we obtained an expression of C(h):\n",
    "\n",
    "\\begin{equation}\n",
    "    C(h)=\\frac{n(\\alpha h)^{n}(-1 + 1/n)(-\\theta_{r} + \\theta_{s})((\\alpha h)^{n} + 1)^{(-1 + 1/n)}}{h((\\alpha h)^{n} + 1)}\n",
    "\\end{equation}"
   ]
  },
  {
   "cell_type": "markdown",
   "metadata": {},
   "source": [
    "Introducing now $h(\\theta)$ in this equation will yield an expression of $C(\\theta)$. Combining this with $k(\\theta)$ will yield the diffusivity in terms of soil water content $D(\\theta)$. This will become a long expression. Hence, it is better to evaluate the diffusivity numerically. Recalculate for the previous given parametrization the capacity:"
   ]
  },
  {
   "cell_type": "code",
   "execution_count": 90,
   "metadata": {
    "collapsed": true
   },
   "outputs": [],
   "source": [
    "c_num=-n_num*(alfa_num*h_num)**n_num*(-1 + 1/n_num)*(-thr_num + ths_num)*((alfa_num*h_num)**n_num + 1)**(-1 + 1/n_num)/(h_num*((alfa_num*h_num)**n_num + 1))"
   ]
  },
  {
   "cell_type": "markdown",
   "metadata": {},
   "source": [
    "And calculate now the diffusivity"
   ]
  },
  {
   "cell_type": "code",
   "execution_count": 91,
   "metadata": {},
   "outputs": [],
   "source": [
    "d_num=k_num/c_num"
   ]
  },
  {
   "cell_type": "markdown",
   "metadata": {},
   "source": [
    "which we can evaluate graphically"
   ]
  },
  {
   "cell_type": "code",
   "execution_count": 92,
   "metadata": {},
   "outputs": [
    {
     "data": {
      "text/plain": [
       "<matplotlib.text.Text at 0xcf1d550>"
      ]
     },
     "execution_count": 92,
     "metadata": {},
     "output_type": "execute_result"
    },
    {
     "data": {
      "image/png": "[encoded data removed]",
      "text/plain": [
       "<matplotlib.figure.Figure at 0xcef2710>"
      ]
     },
     "metadata": {},
     "output_type": "display_data"
    }
   ],
   "source": [
    "plt.plot(pf,d_num);\n",
    "plt.xlabel('pF(log(cm)')\n",
    "plt.ylabel('diffusivity (cm2/day)')"
   ]
  }
 ],
 "metadata": {
  "kernelspec": {
   "display_name": "Python 3",
   "language": "python",
   "name": "python3"
  },
  "language_info": {
   "codemirror_mode": {
    "name": "ipython",
    "version": 3
   },
   "file_extension": ".py",
   "mimetype": "text/x-python",
   "name": "python",
   "nbconvert_exporter": "python",
   "pygments_lexer": "ipython3",
   "version": "3.6.4"
  }
 },
 "nbformat": 4,
 "nbformat_minor": 2
}
