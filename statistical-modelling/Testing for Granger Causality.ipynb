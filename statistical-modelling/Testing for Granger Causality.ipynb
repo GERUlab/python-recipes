{
 "cells": [
  {
   "cell_type": "markdown",
   "metadata": {
    "toc": "true"
   },
   "source": [
    "# Table of Contents\n",
    " <p><div class=\"lev1 toc-item\"><a href=\"#Granger-Causality\" data-toc-modified-id=\"Granger-Causality-1\"><span class=\"toc-item-num\">1&nbsp;&nbsp;</span>Granger Causality</a></div><div class=\"lev1 toc-item\"><a href=\"#Assumptions-and-drawbacks\" data-toc-modified-id=\"Assumptions-and-drawbacks-2\"><span class=\"toc-item-num\">2&nbsp;&nbsp;</span>Assumptions and drawbacks</a></div><div class=\"lev1 toc-item\"><a href=\"#Python-implementation\" data-toc-modified-id=\"Python-implementation-3\"><span class=\"toc-item-num\">3&nbsp;&nbsp;</span>Python implementation</a></div><div class=\"lev1 toc-item\"><a href=\"#Example\" data-toc-modified-id=\"Example-4\"><span class=\"toc-item-num\">4&nbsp;&nbsp;</span>Example</a></div><div class=\"lev2 toc-item\"><a href=\"#Data\" data-toc-modified-id=\"Data-41\"><span class=\"toc-item-num\">4.1&nbsp;&nbsp;</span>Data</a></div><div class=\"lev2 toc-item\"><a href=\"#Triple-wise-Granger-Analysis\" data-toc-modified-id=\"Triple-wise-Granger-Analysis-42\"><span class=\"toc-item-num\">4.2&nbsp;&nbsp;</span>Triple-wise Granger Analysis</a></div><div class=\"lev2 toc-item\"><a href=\"#Pairwise-Granger\" data-toc-modified-id=\"Pairwise-Granger-43\"><span class=\"toc-item-num\">4.3&nbsp;&nbsp;</span>Pairwise Granger</a></div><div class=\"lev3 toc-item\"><a href=\"#X-vs-Z\" data-toc-modified-id=\"X-vs-Z-431\"><span class=\"toc-item-num\">4.3.1&nbsp;&nbsp;</span>X vs Z</a></div><div class=\"lev3 toc-item\"><a href=\"#Y-vs-Z\" data-toc-modified-id=\"Y-vs-Z-432\"><span class=\"toc-item-num\">4.3.2&nbsp;&nbsp;</span>Y vs Z</a></div><div class=\"lev1 toc-item\"><a href=\"#Comparison-with-statsmodels\" data-toc-modified-id=\"Comparison-with-statsmodels-5\"><span class=\"toc-item-num\">5&nbsp;&nbsp;</span>Comparison with statsmodels</a></div><div class=\"lev3 toc-item\"><a href=\"#Triple-wise-Granger-analysis\" data-toc-modified-id=\"Triple-wise-Granger-analysis-501\"><span class=\"toc-item-num\">5.0.1&nbsp;&nbsp;</span>Triple-wise Granger analysis</a></div><div class=\"lev3 toc-item\"><a href=\"#Pairwise-Granger-analysis\" data-toc-modified-id=\"Pairwise-Granger-analysis-502\"><span class=\"toc-item-num\">5.0.2&nbsp;&nbsp;</span>Pairwise Granger analysis</a></div>"
   ]
  },
  {
   "cell_type": "markdown",
   "metadata": {},
   "source": [
    "@author: Damien Delforge <br>\n",
    "@email: damien.delforge[at]uclouvain.be <br>\n",
    "@date : March, 2019<br>\n",
    "\n",
    "# Granger Causality\n",
    "\n",
    "This notebook presents a quick introduction to Granger causality, how to compute it using Python scientific libraries _numpy_ and _scipy_ and how to visualize the results on a contingency table. The python library `statsmodels` already provide python implementation of Granger Causality with additional features. This notebook is rather intended for learning what lies beyond Granger causality and check the code machinery. The code and theory is inspired by `statsmodels` implementation which is itself based on [Lütkepohl (2005): _New Introduction to Multiple Time Series Analysis_](https://www.springer.com/us/book/9783540401728).\n",
    "\n",
    "The present materials is distributed without any guarantees and validity of the outputs is left to the user's responsibility. \n",
    "\n",
    "**Definition**\n",
    "\n",
    "Granger Causality refers to a test to address causality in the field of linear time series analysis. It is based on the principle that if the past of a variable $X$ causes a variable $Y$ at present, then information about $X$'s past should reduce significantly the forecast error of $Y$. This is generalized using Vector Auto Regression (VAR) models. For a $n \\times m$ multivariate time series $\\mathbf{Y}_t$ of $n$ observations and $m$ variables, a VAR model expresses the linear relationship between $\\mathbf{Y}_t$ and its lagged values:\n",
    "\n",
    "_Generalized VAR model_\n",
    "$$\n",
    "\\mathbf{Y}_t = \\mathbf{B}_1\\mathbf{Y}_{t-1} + \\ldots + \\mathbf{B}_p\\mathbf{Y}_{t-p} + c + \\varepsilon_t\n",
    "$$\n",
    "\n",
    "where $\\mathbf{B_i}$ are $m \\times m$ coefficient matrices, $c$ is a constant vector, $\\varepsilon_t$ the error component, and $p$ is the order (maximum lag) of the model. Let us notice that instantaneous relationship are not captured in a VAR model and all variables are the result of linear combinations of their own past values.Estimates $\\hat{\\mathbf{Y}}_t$ are obtained using least square optimization. \n",
    "\n",
    "**Testing for Granger causality**\n",
    "\n",
    "For a univariate time series $y_t$, a VAR model is based on a successively delayed multivariate time series of an exhaustive set of predictors $\\mathbf{\\Omega}_t$ which usually includes $y_t$ as well to account for auto-correlation. To assess if univariate time series $x_t \\in \\mathbf{\\Omega}_t$ Granger-causes $y_t$, we follow two-steps procedure involving VAR models fitting and F-test on the variance of residuals:\n",
    "\n",
    "**1**) Two VAR models are fitted with to obtain $\\hat{y}_t \\bigm|  \\mathbf{\\Omega}_t$ and $\\hat{y}_t \\bigm|  \\mathbf{\\Omega}_t \\setminus x_t$ and their respective forecast errors: $r_u = y_t - \\hat{y}_t \\bigm|  \\mathbf{X}_t $ and\n",
    "$r_c =  y_t - \\hat{y}_t \\bigm|  \\mathbf{X}_t \\setminus x_t\n",
    "$, where $u$ and $c$ subscripts refer to _unconstrained_ and _constrained_ model.\n",
    "\n",
    "**2**) The variance of residuals $\\sigma_u^2 = Var(r_u)$ and $\\sigma_c^2 = Var(r_c)$ are compared to check if $\\sigma_u < \\sigma_c$ is significant. This is done using a F-test where the f-value is given by:\n",
    "\n",
    "_F-statistic for the Granger F-test_\n",
    "$$\n",
    "f = \\frac{n-k}{p} \\frac{\\sigma_c^2 - \\sigma_u^2}{\\sigma_u^2}\n",
    "$$\n",
    "\n",
    "where $k$ is the number of regressors given by $k=p*m+1$. The $+1$ term refers to the additional constant $c$ in the model. The above formula is from the Python [`statsmodels` library source code](https://www.statsmodels.org/dev/_modules/statsmodels/tsa/vector_ar/var_model.html#VARResults.test_causality). A corresponding p-value is calculated using $1- F_F(f, d_1, d_2)$ where $F_F$ is a [a cumulative distribution function of a F continuous random variable](https://docs.scipy.org/doc/scipy/reference/generated/scipy.stats.f.html#scipy.stats.f), and where $d_1 = p$ and $d_2=m(n - k)$ are degrees of freedom. With respect to a confidence level $\\alpha$, Granger causality is concluded if the p-value is lower than $\\alpha$. \n",
    "\n",
    "Note that $n$ refers to the number of observation for which delayed data are available. Hence, if $N$ is the number of total observation, $n$ is given by $N-p$.\n",
    "\n",
    "# Assumptions and drawbacks\n",
    "\n",
    "Testing for Granger causality assumes that:\n",
    "\n",
    "* The linear assumption is valid;\n",
    "* All potential driving variables are used;\n",
    "* All variables are stationary (constant mean and variance);\n",
    "* The residuals are unbiaised ( ~ zero mean) and have no autocorrelation.\n",
    "\n",
    "If variables are non stationary, one may use differencing to achieve it. Since it is not always easy to eyeball stationarity, common stationarity tests are the Augmented Dickey Fuller (ADF) test or the Kwiatkowski–Phillips–Schmidt–Shin (KPSS) tests.\n",
    "Common tests for testing for auto-correlation are the Ljung-Box test or the Box-Pierce test. One may also plot the auto-correlation function of residuals.\n",
    "\n",
    "If two many variables are considered in the Granger causality analysis, the model might be irrelevant suffering from the Curse of Dimensionality. For this reason, Granger causality is often used for pairwise causal analysis, i.e. by comparing the performance of a univariate AR model to a bi-variate VAR model. \n",
    "\n",
    "If some explaining drivers are missing, causal link may be spurious. A common case is the following, if two variables $X$ and $Y$ are related to a third unknown variable $Z$ but not together, then a spurious link may result from the Granger Analysis as $Z$ is not included in the predictors.\n",
    "\n",
    "# Python implementation\n",
    "\n",
    "We implement 2 functions: `get_var_resid(df, maxlag)` and `test_granger(df, maxlag, alpha)`. The function `test_granger` performs granger causality analysis for a variables in the dataframe `df` with a parameter `maxlag` corresponding to the order of the VAR model and `alpha` corresponding to the p-value threshold to conclude for the Granger-causality. The function `get_var_resid` fit a VAR model for a `df` and returns the residuals."
   ]
  },
  {
   "cell_type": "code",
   "execution_count": 1,
   "metadata": {
    "ExecuteTime": {
     "end_time": "2019-03-12T16:55:30.511808Z",
     "start_time": "2019-03-12T16:55:29.582644Z"
    },
    "run_control": {
     "frozen": false,
     "read_only": false
    }
   },
   "outputs": [],
   "source": [
    "import numpy as np\n",
    "import pandas as pd\n",
    "from scipy import stats\n",
    "import matplotlib.pyplot as plt"
   ]
  },
  {
   "cell_type": "code",
   "execution_count": 2,
   "metadata": {
    "ExecuteTime": {
     "end_time": "2019-03-12T16:55:30.532864Z",
     "start_time": "2019-03-12T16:55:30.515821Z"
    }
   },
   "outputs": [],
   "source": [
    "def get_VAR_resid(df, maxlag):\n",
    "    \"\"\"Return residuals of a Vector Auto Regression Model\n",
    "    \n",
    "    The model is fitted using numpy.linalg.lstsq\n",
    "    \n",
    "    Parameters\n",
    "    ----------\n",
    "    df : pandas.DataFrame\n",
    "        DataFrame of size (n, m) containing m time series of n observation.\n",
    "        The `df` DataFrame is predicted variable of the VAR model. \n",
    "    maxlag : int\n",
    "        Maximum delay for the VAR model.\n",
    "        \n",
    "    Returns\n",
    "    -------\n",
    "    residuals : pandas.DataFrame\n",
    "        DataFrame of size (n, m) containing m time series of n observation.\n",
    "        The `residuals` DataFrame are the residuals of the VAR model.\n",
    "    \"\"\"\n",
    "    variables = df\n",
    "    \n",
    "    # build lagged regressors for variables\n",
    "    predictors = pd.DataFrame()\n",
    "    for i in range(1, maxlag+1):\n",
    "        lagged = variables.shift(i)\n",
    "        lagged.columns = ['L{}.{}'.format(i, col) for col in variables.columns]\n",
    "        predictors = pd.concat([predictors,lagged], axis=1)\n",
    "        \n",
    "    # add constant to the model    \n",
    "    predictors['cst'] = 1\n",
    "    \n",
    "    Y = variables.iloc[maxlag:].values\n",
    "    X = predictors.iloc[maxlag:].values\n",
    "    \n",
    "    # Perform the least square optimization\n",
    "    b_hat, _, _, _ =  np.linalg.lstsq(X,Y, rcond=None)\n",
    "    # Perform prediction using fitted parameters b_hat\n",
    "    Y_pred = np.dot(X, b_hat)\n",
    "    \n",
    "    #Output post-processing\n",
    "    residuals = pd.DataFrame(Y-Y_pred, index=variables.index[maxlag:], columns=variables.columns)\n",
    "    return  residuals\n",
    "\n",
    "def test_granger(df, maxlag, alpha=0.05):\n",
    "    \"\"\"Test for Granger causality on a Time Series DataFrame\n",
    "    \n",
    "    Parameters\n",
    "    ----------\n",
    "    df : pandas.DataFrame\n",
    "        DataFrame of size (n, m) containing m time series of n observation.\n",
    "        The `df` DataFrame is predicted variable of the VAR model. \n",
    "    maxlag : int\n",
    "        Maximum delay for the VAR model.\n",
    "    alpha : int\n",
    "        Level of significance [0,1].\n",
    "        \n",
    "    Returns\n",
    "    -------\n",
    "    granger : pandas.DataFrame\n",
    "        DataFrame of size (m, m) containing boolean result of the\n",
    "        Granger causality test. Rows are responses variables and\n",
    "        columns are potential driving variables.\n",
    "    fvalues : pandas.DataFrame\n",
    "        DataFrame of size (m, m) containing F values of the\n",
    "        Granger causality test. Rows are responses variables and\n",
    "        columns are potential driving variables.\n",
    "    pvalues : pandas.DataFrame\n",
    "        DataFrame of size (m, m) containing p-values of the\n",
    "        Granger causality test. Rows are responses variables and\n",
    "        columns are potential driving variables.\n",
    "    \"\"\"\n",
    "    \n",
    "    tsnames = list(df.columns)\n",
    "    \n",
    "    # output initialization\n",
    "    fvalues = pd.DataFrame(index=tsnames, columns=tsnames)\n",
    "    pvalues = pd.DataFrame(index=tsnames, columns=tsnames)\n",
    "    granger = pd.DataFrame(index=tsnames, columns=tsnames)\n",
    "    \n",
    "    for rv in [fvalues, pvalues, granger]:\n",
    "        rv.index.name = 'response'\n",
    "        rv.columns.name = 'driver'\n",
    "    \n",
    "    # Get residuals for unrestricted model\n",
    "    r = get_VAR_resid(df, maxlag)\n",
    "    v_all = np.var(r)\n",
    "\n",
    "    p = maxlag # model order\n",
    "    n = len(r) # number of observations\n",
    "    m = len(df.columns) # number of variables\n",
    "    k = m * p + 1 # number of regressors\n",
    "    \n",
    "    # Iterative F-test on restricted residuals\n",
    "    for i, ts in enumerate(tsnames):\n",
    "        \n",
    "        col_restricted = [j for j in tsnames if j != tsnames[i]]\n",
    "        df_restricted =  df[col_restricted]\n",
    "        \n",
    "        r_restricted = get_VAR_resid(df_restricted, maxlag)\n",
    "        \n",
    "        for j, rx in enumerate(r_restricted.columns):\n",
    "            \n",
    "            v = v_all[rx]\n",
    "            vx = np.var(r_restricted[rx])\n",
    "            \n",
    "            # F test on both residuals variances\n",
    "            f_value = (n-k)/p * (vx - v)/v\n",
    "            p_value = 1 - stats.f.cdf(f_value, p, m*(n - k))\n",
    "            fvalues.loc[rx, ts] = f_value\n",
    "            pvalues.loc[rx, ts] = p_value\n",
    "            granger.loc[rx, ts] = p_value < alpha\n",
    "            \n",
    "            \n",
    "    return granger, fvalues, pvalues"
   ]
  },
  {
   "cell_type": "markdown",
   "metadata": {},
   "source": [
    "# Example\n",
    "\n",
    "## Data\n",
    "\n",
    "We use synthetic data to generate a simple causal chain:\n",
    "$$\n",
    "X_t \\rightarrow Y_t \\rightarrow Z_t \n",
    "$$\n",
    "\n",
    "The model is the following:\n",
    "$$\n",
    "\\begin{eqnarray}\n",
    "X_t = N(0,1) \\\\\n",
    "Y_t = 0.2Y_{t-1} + 0.2X_{t-1} + 0.2N(0,1) \\\\\n",
    "Z_t = 0.2Z_{t-1} + 0.2Y_{t-1} + 0.2N(0,1)\n",
    "\\end{eqnarray}\n",
    "$$\n",
    "\n",
    "The synthetic dataset is stored in a `pandas.DataFrame` object."
   ]
  },
  {
   "cell_type": "code",
   "execution_count": 3,
   "metadata": {
    "ExecuteTime": {
     "end_time": "2019-03-12T16:55:30.675796Z",
     "start_time": "2019-03-12T16:55:30.534870Z"
    }
   },
   "outputs": [],
   "source": [
    "np.random.seed(0) # <-- remove it, this is a random seed for reproductible results, and interpretation\n",
    "n = 500\n",
    "\n",
    "xt = np.random.randn(n)\n",
    "yt = np.zeros(len(xt))\n",
    "zt = np.zeros(len(xt))\n",
    "\n",
    "eps1 = np.random.randn(len(xt))\n",
    "eps2 = np.random.randn(len(xt))\n",
    "\n",
    "for i in range(3, len(yt) - 3):\n",
    "    yt[i] = 0.2 * yt[i - 1] + 0.2 * xt[i - 1] + 0.2*eps1[i]\n",
    "    zt[i] = 0.2 * zt[i - 1] + 0.2 * yt[i - 1] + 0.2*eps2[i]\n",
    "\n",
    "df = pd.DataFrame()\n",
    "df['X'] = xt\n",
    "df['Y'] = yt\n",
    "df['Z'] = zt"
   ]
  },
  {
   "cell_type": "markdown",
   "metadata": {},
   "source": [
    "We plot the time series using the `DataFrame.plot()` method:"
   ]
  },
  {
   "cell_type": "code",
   "execution_count": 4,
   "metadata": {
    "ExecuteTime": {
     "end_time": "2019-03-12T16:55:31.291744Z",
     "start_time": "2019-03-12T16:55:30.678805Z"
    }
   },
   "outputs": [
    {
     "data": {
      "image/png": "[encoded data removed]",
      "text/plain": [
       "<Figure size 432x288 with 3 Axes>"
      ]
     },
     "metadata": {
      "needs_background": "light"
     },
     "output_type": "display_data"
    }
   ],
   "source": [
    "_ = df.plot(subplots=True, lw=1.)"
   ]
  },
  {
   "cell_type": "markdown",
   "metadata": {},
   "source": [
    "## Triple-wise Granger Analysis\n",
    "\n",
    "We use the `test_granger` function to test Granger causality on the full dataset. Boolean verdict of the Granger test are returned in the `gc` dataframe. The f-values and corresponding p-values are return in the `fstats`and `pstats` dataframe. We use an arbitrary order of 3 (maximum lag)."
   ]
  },
  {
   "cell_type": "code",
   "execution_count": 5,
   "metadata": {
    "ExecuteTime": {
     "end_time": "2019-03-12T16:55:31.375975Z",
     "start_time": "2019-03-12T16:55:31.293749Z"
    }
   },
   "outputs": [
    {
     "data": {
      "text/html": [
       "<div>\n",
       "<style scoped>\n",
       "    .dataframe tbody tr th:only-of-type {\n",
       "        vertical-align: middle;\n",
       "    }\n",
       "\n",
       "    .dataframe tbody tr th {\n",
       "        vertical-align: top;\n",
       "    }\n",
       "\n",
       "    .dataframe thead th {\n",
       "        text-align: right;\n",
       "    }\n",
       "</style>\n",
       "<table border=\"1\" class=\"dataframe\">\n",
       "  <thead>\n",
       "    <tr style=\"text-align: right;\">\n",
       "      <th>driver</th>\n",
       "      <th>X</th>\n",
       "      <th>Y</th>\n",
       "      <th>Z</th>\n",
       "    </tr>\n",
       "    <tr>\n",
       "      <th>response</th>\n",
       "      <th></th>\n",
       "      <th></th>\n",
       "      <th></th>\n",
       "    </tr>\n",
       "  </thead>\n",
       "  <tbody>\n",
       "    <tr>\n",
       "      <th>X</th>\n",
       "      <td>NaN</td>\n",
       "      <td>False</td>\n",
       "      <td>False</td>\n",
       "    </tr>\n",
       "    <tr>\n",
       "      <th>Y</th>\n",
       "      <td>True</td>\n",
       "      <td>NaN</td>\n",
       "      <td>False</td>\n",
       "    </tr>\n",
       "    <tr>\n",
       "      <th>Z</th>\n",
       "      <td>False</td>\n",
       "      <td>True</td>\n",
       "      <td>NaN</td>\n",
       "    </tr>\n",
       "  </tbody>\n",
       "</table>\n",
       "</div>"
      ],
      "text/plain": [
       "driver        X      Y      Z\n",
       "response                     \n",
       "X           NaN  False  False\n",
       "Y          True    NaN  False\n",
       "Z         False   True    NaN"
      ]
     },
     "execution_count": 5,
     "metadata": {},
     "output_type": "execute_result"
    }
   ],
   "source": [
    "gc, fstats, pstats = test_granger(df, 3, alpha=0.01)\n",
    "gc"
   ]
  },
  {
   "cell_type": "markdown",
   "metadata": {},
   "source": [
    "The columns corresponds to the drivers and the rows to the response variables. We notice that Y is driven by X only an Z is driven by Y only, which corresponds to our primary model. We can have a further look on the f and p-values:"
   ]
  },
  {
   "cell_type": "code",
   "execution_count": 6,
   "metadata": {
    "ExecuteTime": {
     "end_time": "2019-03-12T16:55:31.415079Z",
     "start_time": "2019-03-12T16:55:31.377982Z"
    }
   },
   "outputs": [
    {
     "data": {
      "text/html": [
       "<div>\n",
       "<style scoped>\n",
       "    .dataframe tbody tr th:only-of-type {\n",
       "        vertical-align: middle;\n",
       "    }\n",
       "\n",
       "    .dataframe tbody tr th {\n",
       "        vertical-align: top;\n",
       "    }\n",
       "\n",
       "    .dataframe thead th {\n",
       "        text-align: right;\n",
       "    }\n",
       "</style>\n",
       "<table border=\"1\" class=\"dataframe\">\n",
       "  <thead>\n",
       "    <tr style=\"text-align: right;\">\n",
       "      <th>driver</th>\n",
       "      <th>X</th>\n",
       "      <th>Y</th>\n",
       "      <th>Z</th>\n",
       "    </tr>\n",
       "    <tr>\n",
       "      <th>response</th>\n",
       "      <th></th>\n",
       "      <th></th>\n",
       "      <th></th>\n",
       "    </tr>\n",
       "  </thead>\n",
       "  <tbody>\n",
       "    <tr>\n",
       "      <th>X</th>\n",
       "      <td>NaN</td>\n",
       "      <td>1.02869</td>\n",
       "      <td>0.275693</td>\n",
       "    </tr>\n",
       "    <tr>\n",
       "      <th>Y</th>\n",
       "      <td>163.775</td>\n",
       "      <td>NaN</td>\n",
       "      <td>0.167555</td>\n",
       "    </tr>\n",
       "    <tr>\n",
       "      <th>Z</th>\n",
       "      <td>0.994903</td>\n",
       "      <td>5.36713</td>\n",
       "      <td>NaN</td>\n",
       "    </tr>\n",
       "  </tbody>\n",
       "</table>\n",
       "</div>"
      ],
      "text/plain": [
       "driver           X        Y         Z\n",
       "response                             \n",
       "X              NaN  1.02869  0.275693\n",
       "Y          163.775      NaN  0.167555\n",
       "Z         0.994903  5.36713       NaN"
      ]
     },
     "execution_count": 6,
     "metadata": {},
     "output_type": "execute_result"
    }
   ],
   "source": [
    "fstats"
   ]
  },
  {
   "cell_type": "code",
   "execution_count": 7,
   "metadata": {
    "ExecuteTime": {
     "end_time": "2019-03-12T16:55:31.523370Z",
     "start_time": "2019-03-12T16:55:31.417084Z"
    }
   },
   "outputs": [
    {
     "data": {
      "text/html": [
       "<div>\n",
       "<style scoped>\n",
       "    .dataframe tbody tr th:only-of-type {\n",
       "        vertical-align: middle;\n",
       "    }\n",
       "\n",
       "    .dataframe tbody tr th {\n",
       "        vertical-align: top;\n",
       "    }\n",
       "\n",
       "    .dataframe thead th {\n",
       "        text-align: right;\n",
       "    }\n",
       "</style>\n",
       "<table border=\"1\" class=\"dataframe\">\n",
       "  <thead>\n",
       "    <tr style=\"text-align: right;\">\n",
       "      <th>driver</th>\n",
       "      <th>X</th>\n",
       "      <th>Y</th>\n",
       "      <th>Z</th>\n",
       "    </tr>\n",
       "    <tr>\n",
       "      <th>response</th>\n",
       "      <th></th>\n",
       "      <th></th>\n",
       "      <th></th>\n",
       "    </tr>\n",
       "  </thead>\n",
       "  <tbody>\n",
       "    <tr>\n",
       "      <th>X</th>\n",
       "      <td>NaN</td>\n",
       "      <td>0.378874</td>\n",
       "      <td>0.842968</td>\n",
       "    </tr>\n",
       "    <tr>\n",
       "      <th>Y</th>\n",
       "      <td>1.11022e-16</td>\n",
       "      <td>NaN</td>\n",
       "      <td>0.918287</td>\n",
       "    </tr>\n",
       "    <tr>\n",
       "      <th>Z</th>\n",
       "      <td>0.394303</td>\n",
       "      <td>0.00112398</td>\n",
       "      <td>NaN</td>\n",
       "    </tr>\n",
       "  </tbody>\n",
       "</table>\n",
       "</div>"
      ],
      "text/plain": [
       "driver              X           Y         Z\n",
       "response                                   \n",
       "X                 NaN    0.378874  0.842968\n",
       "Y         1.11022e-16         NaN  0.918287\n",
       "Z            0.394303  0.00112398       NaN"
      ]
     },
     "execution_count": 7,
     "metadata": {},
     "output_type": "execute_result"
    }
   ],
   "source": [
    "pstats"
   ]
  },
  {
   "cell_type": "markdown",
   "metadata": {},
   "source": [
    "We see that indeed $X_t \\rightarrow "
   ]
  },
  {
   "cell_type": "markdown",
   "metadata": {},
   "source": [
    "## Pairwise Granger"
   ]
  },
  {
   "cell_type": "markdown",
   "metadata": {},
   "source": [
    "### X vs Z"
   ]
  },
  {
   "cell_type": "code",
   "execution_count": 8,
   "metadata": {
    "ExecuteTime": {
     "end_time": "2019-03-12T16:55:31.669774Z",
     "start_time": "2019-03-12T16:55:31.526379Z"
    }
   },
   "outputs": [
    {
     "data": {
      "text/html": [
       "<div>\n",
       "<style scoped>\n",
       "    .dataframe tbody tr th:only-of-type {\n",
       "        vertical-align: middle;\n",
       "    }\n",
       "\n",
       "    .dataframe tbody tr th {\n",
       "        vertical-align: top;\n",
       "    }\n",
       "\n",
       "    .dataframe thead th {\n",
       "        text-align: right;\n",
       "    }\n",
       "</style>\n",
       "<table border=\"1\" class=\"dataframe\">\n",
       "  <thead>\n",
       "    <tr style=\"text-align: right;\">\n",
       "      <th>driver</th>\n",
       "      <th>X</th>\n",
       "      <th>Z</th>\n",
       "    </tr>\n",
       "    <tr>\n",
       "      <th>response</th>\n",
       "      <th></th>\n",
       "      <th></th>\n",
       "    </tr>\n",
       "  </thead>\n",
       "  <tbody>\n",
       "    <tr>\n",
       "      <th>X</th>\n",
       "      <td>NaN</td>\n",
       "      <td>False</td>\n",
       "    </tr>\n",
       "    <tr>\n",
       "      <th>Z</th>\n",
       "      <td>True</td>\n",
       "      <td>NaN</td>\n",
       "    </tr>\n",
       "  </tbody>\n",
       "</table>\n",
       "</div>"
      ],
      "text/plain": [
       "driver       X      Z\n",
       "response             \n",
       "X          NaN  False\n",
       "Z         True    NaN"
      ]
     },
     "execution_count": 8,
     "metadata": {},
     "output_type": "execute_result"
    }
   ],
   "source": [
    "gc, fstats, pstats = test_granger(df[['X', 'Z']], 3, alpha=0.01)\n",
    "gc"
   ]
  },
  {
   "cell_type": "markdown",
   "metadata": {},
   "source": [
    "We notice that if we remove Y from the model, X now Granger-cause Z."
   ]
  },
  {
   "cell_type": "code",
   "execution_count": 9,
   "metadata": {
    "ExecuteTime": {
     "end_time": "2019-03-12T16:55:31.731938Z",
     "start_time": "2019-03-12T16:55:31.686820Z"
    }
   },
   "outputs": [
    {
     "name": "stdout",
     "output_type": "stream",
     "text": [
      "driver          X         Z\n",
      "response                   \n",
      "X             NaN  0.422034\n",
      "Z         7.98805       NaN\n",
      "driver              X         Z\n",
      "response                       \n",
      "X                 NaN  0.737239\n",
      "Z         2.90225e-05       NaN\n"
     ]
    }
   ],
   "source": [
    "print(fstats)\n",
    "print(pstats)"
   ]
  },
  {
   "cell_type": "markdown",
   "metadata": {},
   "source": [
    "### Y vs Z"
   ]
  },
  {
   "cell_type": "code",
   "execution_count": 10,
   "metadata": {
    "ExecuteTime": {
     "end_time": "2019-03-12T16:55:31.933486Z",
     "start_time": "2019-03-12T16:55:31.899398Z"
    }
   },
   "outputs": [
    {
     "data": {
      "text/html": [
       "<div>\n",
       "<style scoped>\n",
       "    .dataframe tbody tr th:only-of-type {\n",
       "        vertical-align: middle;\n",
       "    }\n",
       "\n",
       "    .dataframe tbody tr th {\n",
       "        vertical-align: top;\n",
       "    }\n",
       "\n",
       "    .dataframe thead th {\n",
       "        text-align: right;\n",
       "    }\n",
       "</style>\n",
       "<table border=\"1\" class=\"dataframe\">\n",
       "  <thead>\n",
       "    <tr style=\"text-align: right;\">\n",
       "      <th>driver</th>\n",
       "      <th>Y</th>\n",
       "      <th>Z</th>\n",
       "    </tr>\n",
       "    <tr>\n",
       "      <th>response</th>\n",
       "      <th></th>\n",
       "      <th></th>\n",
       "    </tr>\n",
       "  </thead>\n",
       "  <tbody>\n",
       "    <tr>\n",
       "      <th>Y</th>\n",
       "      <td>NaN</td>\n",
       "      <td>False</td>\n",
       "    </tr>\n",
       "    <tr>\n",
       "      <th>Z</th>\n",
       "      <td>True</td>\n",
       "      <td>NaN</td>\n",
       "    </tr>\n",
       "  </tbody>\n",
       "</table>\n",
       "</div>"
      ],
      "text/plain": [
       "driver       Y      Z\n",
       "response             \n",
       "Y          NaN  False\n",
       "Z         True    NaN"
      ]
     },
     "execution_count": 10,
     "metadata": {},
     "output_type": "execute_result"
    }
   ],
   "source": [
    "gc, fstats, pstats = test_granger(df[['Y', 'Z']], 3, alpha=0.01)\n",
    "gc"
   ]
  },
  {
   "cell_type": "code",
   "execution_count": 11,
   "metadata": {
    "ExecuteTime": {
     "end_time": "2019-03-12T16:55:32.005681Z",
     "start_time": "2019-03-12T16:55:31.935490Z"
    }
   },
   "outputs": [
    {
     "name": "stdout",
     "output_type": "stream",
     "text": [
      "driver          Y         Z\n",
      "response                   \n",
      "Y             NaN  0.281323\n",
      "Z         12.5742       NaN\n",
      "driver              Y         Z\n",
      "response                       \n",
      "Y                 NaN  0.838908\n",
      "Z         4.52656e-08       NaN\n"
     ]
    }
   ],
   "source": [
    "print(fstats)\n",
    "print(pstats)"
   ]
  },
  {
   "cell_type": "markdown",
   "metadata": {},
   "source": [
    "# Comparison with statsmodels\n",
    "\n",
    "Similar results can be obtained with the `statsmodels` implementation of VAR models."
   ]
  },
  {
   "cell_type": "code",
   "execution_count": 12,
   "metadata": {
    "ExecuteTime": {
     "end_time": "2019-03-12T16:55:32.436676Z",
     "start_time": "2019-03-12T16:55:32.153582Z"
    }
   },
   "outputs": [
    {
     "data": {
      "text/plain": [
       "'0.9.0'"
      ]
     },
     "execution_count": 12,
     "metadata": {},
     "output_type": "execute_result"
    }
   ],
   "source": [
    "import statsmodels\n",
    "from statsmodels.tsa.api import VAR\n",
    "statsmodels.__version__"
   ]
  },
  {
   "cell_type": "markdown",
   "metadata": {},
   "source": [
    "### Triple-wise Granger analysis"
   ]
  },
  {
   "cell_type": "code",
   "execution_count": 13,
   "metadata": {
    "ExecuteTime": {
     "end_time": "2019-03-12T16:55:32.519937Z",
     "start_time": "2019-03-12T16:55:32.439686Z"
    }
   },
   "outputs": [
    {
     "data": {
      "text/html": [
       "<table class=\"simpletable\">\n",
       "<caption>Granger causality F-test. H_0: X does not Granger-cause Z. Conclusion: fail to reject H_0 at 1% significance level.</caption>\n",
       "<tr>\n",
       "  <th>Test statistic</th> <th>Critical value</th> <th>p-value</th>    <th>df</th>    \n",
       "</tr>\n",
       "<tr>\n",
       "      <td>0.9949</td>          <td>3.795</td>      <td>0.394</td>  <td>(3, 1461)</td>\n",
       "</tr>\n",
       "</table>"
      ],
      "text/plain": [
       "<class 'statsmodels.iolib.table.SimpleTable'>"
      ]
     },
     "execution_count": 13,
     "metadata": {},
     "output_type": "execute_result"
    }
   ],
   "source": [
    "model = VAR(df)\n",
    "result = model.fit(3)\n",
    "gctest = result.test_causality('Z', 'X', signif=0.01)\n",
    "gctest.summary()"
   ]
  },
  {
   "cell_type": "markdown",
   "metadata": {},
   "source": [
    "We see that we obtained the exact same f-statistic and p-value while testing for Granger causality on a tri-variate VAR model. "
   ]
  },
  {
   "cell_type": "markdown",
   "metadata": {},
   "source": [
    "### Pairwise Granger analysis"
   ]
  },
  {
   "cell_type": "code",
   "execution_count": 14,
   "metadata": {
    "ExecuteTime": {
     "end_time": "2019-03-12T16:55:32.887576Z",
     "start_time": "2019-03-12T16:55:32.874537Z"
    }
   },
   "outputs": [
    {
     "data": {
      "text/html": [
       "<table class=\"simpletable\">\n",
       "<caption>Granger causality F-test. H_0: X does not Granger-cause Z. Conclusion: reject H_0 at 1% significance level.</caption>\n",
       "<tr>\n",
       "  <th>Test statistic</th> <th>Critical value</th> <th>p-value</th>    <th>df</th>   \n",
       "</tr>\n",
       "<tr>\n",
       "       <td>7.988</td>          <td>3.802</td>      <td>0.000</td>  <td>(3, 980)</td>\n",
       "</tr>\n",
       "</table>"
      ],
      "text/plain": [
       "<class 'statsmodels.iolib.table.SimpleTable'>"
      ]
     },
     "execution_count": 14,
     "metadata": {},
     "output_type": "execute_result"
    }
   ],
   "source": [
    "model = VAR(df[['X','Z']])\n",
    "result = model.fit(3)\n",
    "gctest = result.test_causality('Z', 'X', signif=0.01)\n",
    "gctest.summary()"
   ]
  },
  {
   "cell_type": "code",
   "execution_count": 15,
   "metadata": {
    "ExecuteTime": {
     "end_time": "2019-03-12T16:55:33.001880Z",
     "start_time": "2019-03-12T16:55:32.889577Z"
    }
   },
   "outputs": [
    {
     "data": {
      "text/html": [
       "<table class=\"simpletable\">\n",
       "<caption>Granger causality F-test. H_0: Y does not Granger-cause Z. Conclusion: reject H_0 at 1% significance level.</caption>\n",
       "<tr>\n",
       "  <th>Test statistic</th> <th>Critical value</th> <th>p-value</th>    <th>df</th>   \n",
       "</tr>\n",
       "<tr>\n",
       "       <td>12.57</td>          <td>3.802</td>      <td>0.000</td>  <td>(3, 980)</td>\n",
       "</tr>\n",
       "</table>"
      ],
      "text/plain": [
       "<class 'statsmodels.iolib.table.SimpleTable'>"
      ]
     },
     "execution_count": 15,
     "metadata": {},
     "output_type": "execute_result"
    }
   ],
   "source": [
    "model = VAR(df[['Y','Z']])\n",
    "result = model.fit(3)\n",
    "gctest = result.test_causality('Z', 'Y', signif=0.01)\n",
    "gctest.summary()"
   ]
  },
  {
   "cell_type": "markdown",
   "metadata": {},
   "source": [
    "Again, similar results are obtained"
   ]
  }
 ],
 "metadata": {
  "hide_input": false,
  "kernelspec": {
   "display_name": "Python 3",
   "language": "python",
   "name": "python3"
  },
  "language_info": {
   "codemirror_mode": {
    "name": "ipython",
    "version": 3
   },
   "file_extension": ".py",
   "mimetype": "text/x-python",
   "name": "python",
   "nbconvert_exporter": "python",
   "pygments_lexer": "ipython3",
   "version": "3.7.2"
  },
  "toc": {
   "colors": {
    "hover_highlight": "#DAA520",
    "running_highlight": "#FF0000",
    "selected_highlight": "#FFD700"
   },
   "moveMenuLeft": true,
   "nav_menu": {
    "height": "228px",
    "width": "252px"
   },
   "navigate_menu": true,
   "number_sections": true,
   "sideBar": true,
   "threshold": 4,
   "toc_cell": true,
   "toc_position": {
    "height": "811px",
    "left": "0px",
    "right": "1631px",
    "top": "158px",
    "width": "289px"
   },
   "toc_section_display": "block",
   "toc_window_display": true
  }
 },
 "nbformat": 4,
 "nbformat_minor": 2
}
