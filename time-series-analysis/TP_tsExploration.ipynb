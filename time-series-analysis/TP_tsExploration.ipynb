{
  "nbformat": 4,
  "nbformat_minor": 0,
  "metadata": {
    "colab": {
      "provenance": []
    },
    "kernelspec": {
      "name": "python3",
      "display_name": "Python 3"
    },
    "language_info": {
      "name": "python"
    }
  },
  "cells": [
    {
      "cell_type": "markdown",
      "source": [
        "# TP LSGED2210\n",
        "Analyse exploratoire de l'hydrologie d'un bassin versant à travers l'analsye exploeatoire des séries temporelles de données de flux (précipitation et ET), de stock d'eau (humidité du sol), et de la réponse de la végétation (NDVI).\n",
        "\n",
        "Alice Alonso 2022.\n",
        "UCLouvain, ELI."
      ],
      "metadata": {
        "id": "Pfyz7X6BjonD"
      }
    },
    {
      "cell_type": "markdown",
      "source": [
        "# Mise en place de l'environnement de travail"
      ],
      "metadata": {
        "id": "z082WwzHkiFv"
      }
    },
    {
      "cell_type": "code",
      "execution_count": null,
      "metadata": {
        "colab": {
          "base_uri": "https://localhost:8080/"
        },
        "id": "bFBnkQd6w2Hy",
        "outputId": "f30a0cc8-537a-4566-c196-edbcce007f92"
      },
      "outputs": [
        {
          "output_type": "stream",
          "name": "stdout",
          "text": [
            "Requirement already satisfied: pymannkendall in /usr/local/lib/python3.7/dist-packages (1.4.2)\n",
            "Requirement already satisfied: numpy in /usr/local/lib/python3.7/dist-packages (from pymannkendall) (1.21.6)\n",
            "Requirement already satisfied: scipy in /usr/local/lib/python3.7/dist-packages (from pymannkendall) (1.4.1)\n"
          ]
        }
      ],
      "source": [
        "# Miscellaneous operating system interfaces\n",
        "import os\n",
        "# Python Data Analysis library\n",
        "import pandas as pd\n",
        "# Python Numerical computating library\n",
        "import numpy as np\n",
        "# Python Scientifical computing library\n",
        "import scipy as sc\n",
        "# Python plotting library\n",
        "from matplotlib import pyplot as plt\n",
        "# Date time operations\n",
        "import datetime as dt\n",
        "# Trend test\n",
        "!pip install pymannkendall\n",
        "import pymannkendall as mk\n",
        "import statsmodels.api as sm\n",
        "# Figure styling\n",
        "import seaborn as sns"
      ]
    },
    {
      "cell_type": "markdown",
      "source": [],
      "metadata": {
        "id": "Tv9NWkch18tc"
      }
    },
    {
      "cell_type": "markdown",
      "source": [
        "**Importer les fichiers csv** des séries temporelles générées à partie de Google Earth Engine pour les variables NDVI, Précipitation, ET, et humidité du sol  via le \"file explorer\" dans la fenêtre de gauche et l'icône \"upload\".\n",
        "\n",
        "Les données pour le bassin de Ankavia sont stockées dans le fichier \"tsData\" sur Moodle."
      ],
      "metadata": {
        "id": "sFyJRFfRfG37"
      }
    },
    {
      "cell_type": "markdown",
      "source": [
        "# NDVI"
      ],
      "metadata": {
        "id": "0M0Cc0s2e9LT"
      }
    },
    {
      "cell_type": "markdown",
      "source": [
        "1. Lire les données et les stocker dans un cadre de données."
      ],
      "metadata": {
        "id": "Bkp7njXvfw3n"
      }
    },
    {
      "cell_type": "code",
      "source": [
        "\n",
        "df1 = pd.read_csv('/content/ankavia_NDVI_20000101TO20041231.csv')\n",
        "df2 = pd.read_csv('/content/ankavia_NDVI_20050101TO20091231.csv')\n",
        "df3 = pd.read_csv('/content/ankavia_NDVI_20100101TO20141231.csv')\n",
        "df4 = pd.read_csv('/content/ankavia_NDVI_20150101TO20221231.csv') "
      ],
      "metadata": {
        "id": "R4PQ9btS1da0",
        "outputId": "0db1172b-dc37-4906-cd5c-f973067cc7f6",
        "colab": {
          "base_uri": "https://localhost:8080/"
        }
      },
      "execution_count": null,
      "outputs": [
        {
          "output_type": "stream",
          "name": "stdout",
          "text": [
            "  system:time_start  NDVI\n",
            "0      Feb 24, 2000   NaN\n",
            "1      Feb 25, 2000   NaN\n",
            "2      Feb 26, 2000   NaN\n",
            "3      Feb 27, 2000   NaN\n",
            "4      Feb 28, 2000   NaN\n"
          ]
        }
      ]
    },
    {
      "cell_type": "markdown",
      "source": [
        "2. Concatener les données dans un dataframe commun et en afficher les premières lignes.\n",
        "\n",
        "---\n",
        "\n"
      ],
      "metadata": {
        "id": "iKke2IGugvHe"
      }
    },
    {
      "cell_type": "code",
      "source": [
        "df=pd.concat([df1,df2,df3,df4]);\n",
        "print(df.tail())"
      ],
      "metadata": {
        "colab": {
          "base_uri": "https://localhost:8080/"
        },
        "id": "ybKItvrQ2VFX",
        "outputId": "9a9e61f9-3467-48b3-ca19-c0b885e1fd31"
      },
      "execution_count": null,
      "outputs": [
        {
          "output_type": "stream",
          "name": "stdout",
          "text": [
            "     system:time_start   NDVI\n",
            "2657      Apr 24, 2022    NaN\n",
            "2658      Apr 25, 2022  0.663\n",
            "2659      Apr 26, 2022    NaN\n",
            "2660      Apr 27, 2022  0.797\n",
            "2661      Apr 28, 2022    NaN\n"
          ]
        }
      ]
    },
    {
      "cell_type": "markdown",
      "source": [
        "3. Renommer les colonnes et convertir la colonne *datetime* en un index. Cela nous permettra de travailler plus facilement avec certains des packages que nous utiliserons plus tard."
      ],
      "metadata": {
        "id": "gY59UAeIg5VP"
      }
    },
    {
      "cell_type": "code",
      "source": [
        "df['datetime'] = pd.to_datetime(df['system:time_start'])\n",
        "\n",
        "df.index = df['datetime']\n",
        "print(df.head(1))\n",
        "\n",
        "df_NDVI= df[['NDVI']]\n",
        "\n",
        "print(df_NDVI.head(10))\n",
        "print(df_NDVI.tail(1))"
      ],
      "metadata": {
        "colab": {
          "base_uri": "https://localhost:8080/"
        },
        "id": "aSVCBEWV2ame",
        "outputId": "7eae59b6-4606-4002-d9c2-c7fc46fc9c4d"
      },
      "execution_count": null,
      "outputs": [
        {
          "output_type": "stream",
          "name": "stdout",
          "text": [
            "           system:time_start  NDVI   datetime\n",
            "datetime                                     \n",
            "2000-02-24      Feb 24, 2000   NaN 2000-02-24\n",
            "            NDVI\n",
            "datetime        \n",
            "2000-02-24   NaN\n",
            "2000-02-25   NaN\n",
            "2000-02-26   NaN\n",
            "2000-02-27   NaN\n",
            "2000-02-28   NaN\n",
            "2000-02-29   NaN\n",
            "2000-03-01   NaN\n",
            "2000-03-02   NaN\n",
            "2000-03-03   NaN\n",
            "2000-03-04   NaN\n",
            "            NDVI\n",
            "datetime        \n",
            "2022-04-28   NaN\n"
          ]
        }
      ]
    },
    {
      "cell_type": "markdown",
      "source": [
        "Sélectionner les données entre 01/01/2001 et 31/12/2021 pour avoir des années entières uniquement"
      ],
      "metadata": {
        "id": "ztaAHevongow"
      }
    },
    {
      "cell_type": "code",
      "source": [
        "df_NDVI = df_NDVI['2001-01-01':'2021-12-31']\n",
        "\n",
        "print(df_NDVI.head(14))\n"
      ],
      "metadata": {
        "id": "V8KTR1uvncX0",
        "colab": {
          "base_uri": "https://localhost:8080/"
        },
        "outputId": "6a153bac-676d-4e98-f37b-16cd71e4dfdd"
      },
      "execution_count": null,
      "outputs": [
        {
          "output_type": "stream",
          "name": "stdout",
          "text": [
            "             NDVI\n",
            "datetime         \n",
            "2001-01-01    NaN\n",
            "2001-01-02  0.640\n",
            "2001-01-03  0.794\n",
            "2001-01-04  0.735\n",
            "2001-01-05    NaN\n",
            "2001-01-06    NaN\n",
            "2001-01-07    NaN\n",
            "2001-01-08    NaN\n",
            "2001-01-09  0.734\n",
            "2001-01-10  0.727\n",
            "2001-01-11  0.730\n",
            "2001-01-12  0.630\n",
            "2001-01-13    NaN\n",
            "2001-01-14  0.803\n"
          ]
        }
      ]
    },
    {
      "cell_type": "markdown",
      "source": [
        "4. Vérifier les données par inspection visuelle\n"
      ],
      "metadata": {
        "id": "xQkj2EIjhO-W"
      }
    },
    {
      "cell_type": "code",
      "source": [
        "plt.plot(df_NDVI.NDVI)\n",
        "plt.ylabel('NDVI (-)')\n",
        "plt.title('Données bruttes de NDVI')"
      ],
      "metadata": {
        "colab": {
          "base_uri": "https://localhost:8080/",
          "height": 298
        },
        "id": "Pr0fiZvab-MR",
        "outputId": "194f2140-5f4f-4452-9985-86af3c7f32f9"
      },
      "execution_count": null,
      "outputs": [
        {
          "output_type": "execute_result",
          "data": {
            "text/plain": [
              "Text(0.5, 1.0, 'Données bruttes de NDVI')"
            ]
          },
          "metadata": {},
          "execution_count": 17
        },
        {
          "output_type": "display_data",
          "data": {
            "text/plain": [
              "<Figure size 432x288 with 1 Axes>"
            ],
            "image/png": "[encoded data removed]"
          },
          "metadata": {
            "needs_background": "light"
          }
        }
      ]
    },
    {
      "cell_type": "markdown",
      "source": [
        "5. On remarque que les données sont encore fort bruitées. Pour résoudre ce problème, nous allons convertir la série temporelle  initialement à pas de temps journaliers, pour  obtenir des pas de temps hebdomadaire ('W') en utilisant la fonction \"resample\". Pour chaque segment de 8 jours, nous allons imposer que cette fonction prenne la valeur maximale parmi les données journalières (\".max')."
      ],
      "metadata": {
        "id": "6qsgi6x5cF7b"
      }
    },
    {
      "cell_type": "code",
      "source": [
        "df_NDVI_w=df_NDVI.resample('W').max()\n",
        "\n",
        "print(df_NDVI_w.head())"
      ],
      "metadata": {
        "colab": {
          "base_uri": "https://localhost:8080/"
        },
        "id": "Ops7t8ZF2-KC",
        "outputId": "699b4481-019e-41e0-f70b-e9716bbb76f3"
      },
      "execution_count": null,
      "outputs": [
        {
          "output_type": "stream",
          "name": "stdout",
          "text": [
            "             NDVI\n",
            "datetime         \n",
            "2001-01-07  0.794\n",
            "2001-01-14  0.803\n",
            "2001-01-21  0.778\n",
            "2001-01-28  0.843\n",
            "2001-02-04  0.817\n"
          ]
        }
      ]
    },
    {
      "cell_type": "markdown",
      "source": [
        "6. Visualisons les données pour vérifier que  nous obtenons en effet une série temporelle moins bruitée"
      ],
      "metadata": {
        "id": "y6hNpHLJiLky"
      }
    },
    {
      "cell_type": "code",
      "source": [
        "plt.plot(df_NDVI_w.NDVI)\n",
        "\n",
        "plt.ylabel('NDVI (-)')\n",
        "plt.title('Données hebdomadaire max de NDVI')"
      ],
      "metadata": {
        "colab": {
          "base_uri": "https://localhost:8080/",
          "height": 298
        },
        "id": "DprQwKNl2wIW",
        "outputId": "610b75ac-3df6-42e3-b37c-3ff20145673f"
      },
      "execution_count": null,
      "outputs": [
        {
          "output_type": "execute_result",
          "data": {
            "text/plain": [
              "Text(0.5, 1.0, 'Données hebdomadaire max de NDVI')"
            ]
          },
          "metadata": {},
          "execution_count": 23
        },
        {
          "output_type": "display_data",
          "data": {
            "text/plain": [
              "<Figure size 432x288 with 1 Axes>"
            ],
            "image/png": "[encoded data removed]"
          },
          "metadata": {
            "needs_background": "light"
          }
        }
      ]
    },
    {
      "cell_type": "markdown",
      "source": [
        "7. En fonction de l'utilisation qu'il sera faite des séries temporelles de données, il peut être intéressant de travailler avec les données à pas de temps mensuels ('M') voir annuels ('Y'). Utilisons donc la fonction \"resample\" pour  convertir les données à ces deux pas de temps et visualisons les données.\n"
      ],
      "metadata": {
        "id": "vNHLmUHZim0U"
      }
    },
    {
      "cell_type": "code",
      "source": [
        "df_NDVI_m=df_NDVI_w.resample('M').mean()\n",
        "df_NDVI_y=df_NDVI_w.resample('Y').mean()\n",
        "\n",
        "plt.plot(df_NDVI_w.NDVI, label=\"moyenne hebdomadaire\")\n",
        "plt.plot(df_NDVI_m.NDVI, label=\"moyenne mensuelle\")\n",
        "plt.plot(df_NDVI_y.NDVI, \"-y*\", label=\"moyenne annuelle\")\n",
        "plt.ylabel('NDVI (-)')\n",
        "\n",
        "plt.legend(loc=\"lower right\")\n",
        "\n",
        "print(df_NDVI_m.head())\n"
      ],
      "metadata": {
        "colab": {
          "base_uri": "https://localhost:8080/",
          "height": 387
        },
        "id": "ds9Amq2FjZ0S",
        "outputId": "77c1e85c-0548-4306-9ddd-ec66013a4572"
      },
      "execution_count": null,
      "outputs": [
        {
          "output_type": "stream",
          "name": "stdout",
          "text": [
            "               NDVI\n",
            "datetime           \n",
            "2001-01-31  0.80450\n",
            "2001-02-28  0.79075\n",
            "2001-03-31  0.82375\n",
            "2001-04-30  0.85240\n",
            "2001-05-31  0.82550\n"
          ]
        },
        {
          "output_type": "display_data",
          "data": {
            "text/plain": [
              "<Figure size 432x288 with 1 Axes>"
            ],
            "image/png": "[encoded data removed]"
          },
          "metadata": {
            "needs_background": "light"
          }
        }
      ]
    },
    {
      "cell_type": "markdown",
      "source": [
        "*NB: Il existe des fonctions pour sauvegarder automatiquement les figures. Ici, on se contentera de sauvegarder les figures via le menu qui apparait en cliquant droit dessus.*"
      ],
      "metadata": {
        "id": "0k3OiRDqidCA"
      }
    },
    {
      "cell_type": "markdown",
      "source": [
        "8. Il apparait que les données de NDVI restent constantes au cours du temps. Appliquons le test de Mann Kendal pour vérifier cette absence de tendance. Ce test est un test non paramétrique. Il test l'hypothèse que il y a une tendance significative dans les données avev un niveau de confiance défini par le paramètre *alpha*. Il y a une tendance significative si la p-value est inférieure à alpha. Dans ce cas, l'hypothèse est acceptée (\"True\"). Dans le cas où il n'y a pas de tendance significative, l'hypothèse est rejetée (\"no trend\". Dans le cas d'une tendance significative, les résultats du test indiquent aussi si la tendance détectée et croissante ou décroissante. "
      ],
      "metadata": {
        "id": "C6dKS58Orot5"
      }
    },
    {
      "cell_type": "code",
      "source": [
        "print(mk.original_test(df_NDVI_y, alpha=0.05))"
      ],
      "metadata": {
        "colab": {
          "base_uri": "https://localhost:8080/"
        },
        "id": "luV5DAS_5YOq",
        "outputId": "c85d5af5-d244-4c1e-ec89-eb91b6552b5e"
      },
      "execution_count": null,
      "outputs": [
        {
          "output_type": "stream",
          "name": "stdout",
          "text": [
            "Mann_Kendall_Test(trend='no trend', h=False, p=0.09066965950862338, z=1.6918757870394059, Tau=0.26406926406926406, s=61.0, var_s=1257.6666666666667, slope=0.0007171764705882433, intercept=0.8174304313725489)\n"
          ]
        }
      ]
    },
    {
      "cell_type": "markdown",
      "source": [
        "Le test confirme bien l'absence de tendance."
      ],
      "metadata": {
        "id": "X4pqnhBfswni"
      }
    },
    {
      "cell_type": "markdown",
      "source": [
        "9. Pour terminer, intéressons-nous la question de la saisonalité annelle. Est-ce que les valeurs de NDVI suivent un cycle saisonier? Quel est le mois durant lequel la végétation est la plus / la mois vigoureuse? Pour ce faire, représentons les données sous forme de boites à moustaches (\"boxplot\"). Cette fonction groupe les données par mois et represente leur distribution."
      ],
      "metadata": {
        "id": "Q6zQijfAt2Pc"
      }
    },
    {
      "cell_type": "code",
      "source": [
        "df_NDVI_m['Month'] = df_NDVI_m.index.month # Premièrement, il est nécessaire de créer une colonne indiqautn le mois associé à la donnée\n",
        "\n",
        "sns.boxplot(data=df_NDVI_m, x='Month', y='NDVI')\n"
      ],
      "metadata": {
        "colab": {
          "base_uri": "https://localhost:8080/",
          "height": 772
        },
        "id": "htU5mMK_p_MW",
        "outputId": "3a0e655c-14bd-4da8-f351-b80b6913bb48"
      },
      "execution_count": null,
      "outputs": [
        {
          "output_type": "stream",
          "name": "stdout",
          "text": [
            "               NDVI  Month\n",
            "datetime                  \n",
            "2001-01-31  0.80450      1\n",
            "2001-02-28  0.79075      2\n",
            "2001-03-31  0.82375      3\n",
            "2001-04-30  0.85240      4\n",
            "2001-05-31  0.82550      5\n",
            "                NDVI  Month\n",
            "datetime                   \n",
            "2001-01-31  0.804500      1\n",
            "2001-02-28  0.790750      2\n",
            "2001-03-31  0.823750      3\n",
            "2001-04-30  0.852400      4\n",
            "2001-05-31  0.825500      5\n",
            "2001-06-30  0.873333      6\n",
            "2001-07-31  0.833750      7\n",
            "2001-08-31  0.816750      8\n",
            "2001-09-30  0.801400      9\n",
            "2001-10-31  0.785500     10\n",
            "2001-11-30  0.777750     11\n",
            "2001-12-31  0.747600     12\n",
            "2002-01-31  0.801000      1\n",
            "2002-02-28  0.806500      2\n",
            "2002-03-31  0.832600      3\n",
            "2002-04-30  0.825500      4\n",
            "2002-05-31  0.826500      5\n",
            "2002-06-30  0.840800      6\n",
            "2002-07-31  0.830750      7\n",
            "2002-08-31  0.844250      8\n"
          ]
        },
        {
          "output_type": "display_data",
          "data": {
            "text/plain": [
              "<Figure size 432x288 with 1 Axes>"
            ],
            "image/png": "[encoded data removed]"
          },
          "metadata": {
            "needs_background": "light"
          }
        }
      ]
    },
    {
      "cell_type": "code",
      "source": [],
      "metadata": {
        "id": "nhxwvc8mm20H"
      },
      "execution_count": null,
      "outputs": []
    },
    {
      "cell_type": "markdown",
      "source": [
        "# Precipitations\n",
        "Répéter la même procédure pour les données de précipitation. Soyez très critiques  sur les données que vous générez. Est-ce que ça fait sens? Qu'est-ce que ça vous apprend sur la dynamique intra et interannuelle de l'hydrologie du cas d'étude et le changements éventuels sur le long terme?  Attention aux points suivants:\n",
        " \n",
        "*  Dans le cas des  variables P, ET et SM, le bruit est moins problématique. Il n'est donc pas nécessaire de prendre la valeur maximale pour chaque semaine;\n",
        "*  Pour le processus de rééchantillonnage à échelle mensuelle et annuelle, il faut se poser la question: est-il pertinent de prendre la moyenne (\".mean\") ou plutôt la somme (\".sum\"). La réponse varie en fonction des varibales\n",
        "*  Attentention aux unités des données de précipiation. Certaines sont données en mm et d'autres en m (cf documentation du produit). Il faut donc multplier les données données en mètre par 1000 pour les avoir en mm (*1000);\n",
        "*  Pour afficher la légende en-dehors du plot: plt.legend(loc=(1.04,0))\n",
        "*  Pour obtenir les statistiques, appliqer la fonction \".describe()\"\n"
      ],
      "metadata": {
        "id": "BFEgi9KTu-b3"
      }
    },
    {
      "cell_type": "markdown",
      "source": [
        "\n",
        "\n",
        "---\n",
        "\n",
        "\\"
      ],
      "metadata": {
        "id": "WpZi55mKvAuz"
      }
    },
    {
      "cell_type": "markdown",
      "source": [
        "# Nouvelle section pour humidité du sol"
      ],
      "metadata": {
        "id": "wtaE-vzCsjTk"
      }
    },
    {
      "cell_type": "markdown",
      "source": [
        "Hello world\n"
      ],
      "metadata": {
        "id": "bJ0-luHqspyS"
      }
    }
  ]
}